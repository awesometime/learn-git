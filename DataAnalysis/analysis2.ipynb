{
 "cells": [
  {
   "cell_type": "code",
   "execution_count": 28,
   "metadata": {},
   "outputs": [
    {
     "name": "stdout",
     "output_type": "stream",
     "text": [
      "<class 'pandas.core.frame.DataFrame'>\n",
      "RangeIndex: 300 entries, 0 to 299\n",
      "Data columns (total 15 columns):\n",
      "ip_1       300 non-null object\n",
      "com        300 non-null object\n",
      "time       300 non-null object\n",
      "num_1      300 non-null int64\n",
      "get        300 non-null object\n",
      "404        300 non-null int64\n",
      "num_2      300 non-null int64\n",
      "num_3      300 non-null int64\n",
      "url        300 non-null object\n",
      "guid       300 non-null object\n",
      "browser    300 non-null object\n",
      "ip_2       300 non-null object\n",
      "num_4      300 non-null int64\n",
      "miss       300 non-null object\n",
      "ip_3       300 non-null object\n",
      "dtypes: int64(5), object(10)\n",
      "memory usage: 35.2+ KB\n",
      "None\n",
      "['ip_1', 'com', 'time', 'num_1', 'get', '404', 'num_2', 'num_3', 'url', 'guid', 'browser', 'ip_2', 'num_4', 'miss', 'ip_3']\n"
     ]
    }
   ],
   "source": [
    "import pandas as pd\n",
    "\n",
    "# 将csv文件转化成DataFrame格式\n",
    "thh_log = pd.read_csv('G:\\\\PyCharm\\\\PythonProjects\\\\pro01\\\\test\\\\thh_log.csv',names = ['ip_1','com','time','num_1','get',\n",
    "                                             '404','num_2', 'num_3','url', 'guid',\n",
    "                                             'browser','ip_2','num_4','miss','ip_3'])\n",
    "#print(thh_log.head())\n",
    "#print(thh_log.tail())\n",
    "print(thh_log.info())\n",
    "#print(thh_log.columns)\n",
    "\n",
    "print(thh_log.columns.values.tolist())\n",
    "\n"
   ]
  },
  {
   "cell_type": "code",
   "execution_count": 27,
   "metadata": {},
   "outputs": [
    {
     "name": "stdout",
     "output_type": "stream",
     "text": [
      "ip_1   - - - - >>    (108,)\n",
      "com   - - - - >>    (1,)\n",
      "time   - - - - >>    (67,)\n",
      "num_1   - - - - >>    (84,)\n",
      "get   - - - - >>    (10,)\n",
      "404   - - - - >>    (3,)\n",
      "num_2   - - - - >>    (14,)\n",
      "num_3   - - - - >>    (3,)\n",
      "url   - - - - >>    (5,)\n",
      "guid   - - - - >>    (9,)\n",
      "browser   - - - - >>    (25,)\n",
      "ip_2   - - - - >>    (112,)\n",
      "num_4   - - - - >>    (254,)\n",
      "miss   - - - - >>    (1,)\n",
      "ip_3   - - - - >>    (32,)\n"
     ]
    }
   ],
   "source": [
    "#column_list = ['ip_1', 'com', 'time', 'num_1', 'get', '404', 'num_2', 'num_3', 'url', 'guid', 'browser', 'ip_2', 'num_4', 'miss', 'ip_3']\n",
    "for item in thh_log.columns.values.tolist():\n",
    "    #print(item)\n",
    "    print(\"{}   - - - - >>    {}\".format (item , thh_log[item].value_counts().shape))"
   ]
  },
  {
   "cell_type": "code",
   "execution_count": 31,
   "metadata": {},
   "outputs": [
    {
     "name": "stdout",
     "output_type": "stream",
     "text": [
      "108\n",
      "{'222.199.191.50', '58.218.185.110', '163.177.8.105', '111.6.225.63', '36.104.40.199', '112.45.121.78', '123.139.42.195', '117.136.87.33', '117.136.8.230', '202.121.181.104', '157.255.172.20', '202.98.17.207', '180.76.22.115', '180.160.145.51', '112.96.179.170', '163.177.8.95', '123.138.42.50', '58.215.118.78', '119.188.176.103', '112.84.34.115', '157.255.172.22', '111.1.52.50', '111.63.51.103', '218.89.243.64', '111.62.0.105', '119.188.176.115', '219.216.176.154', '183.216.160.78', '36.104.142.50', '111.177.3.105', '112.84.34.116', '183.216.160.50', '112.45.121.50', '223.111.127.78', '183.230.27.8', '39.129.5.43', '36.22.155.247', '61.238.139.186', '120.199.69.103', '58.215.98.50', '117.136.66.218', '112.84.34.103', '36.27.216.68', '223.111.127.50', '111.6.225.50', '58.194.168.69', '113.200.85.153', '183.216.160.75', '117.136.0.210', '222.34.4.4', '222.199.191.55', '180.163.198.103', '119.188.176.116', '42.185.150.80', '42.81.93.115', '223.87.229.217', '111.1.52.75', '180.76.22.186', '111.20.242.50', '58.218.185.160', '111.6.225.55', '112.84.34.105', '222.56.79.50', '221.195.34.105', '111.177.3.115', '117.61.137.101', '117.136.45.101', '58.215.118.105', '180.163.198.105', '116.95.27.55', '223.111.127.75', '123.184.220.50', '112.224.75.103', '36.27.216.63', '111.117.112.177', '125.41.236.58', '219.147.233.50', '111.177.3.103', '183.230.68.105', '115.154.23.13', '139.215.221.50', '219.228.146.115', '119.188.176.105', '27.45.53.139', '180.76.22.232', '117.181.20.231', '221.180.244.50', '36.104.142.63', '222.199.191.63', '111.63.51.105', '221.176.187.237', '111.62.0.103', '59.45.22.139', '112.45.121.75', '39.174.128.178', '58.215.98.78', '219.224.52.129', '111.1.52.78', '220.195.66.7', '117.152.221.42', '125.64.99.103', '58.215.118.115', '221.0.95.244', '120.199.69.105', '61.151.178.180', '42.81.93.105', '58.215.98.75', '219.147.233.63'}\n"
     ]
    }
   ],
   "source": [
    "ip_list = []\n",
    "for item in thh_log['ip_1']:\n",
    "    ip_list.append(item)\n",
    "#final_list=list(set(ip_list))\n",
    "print(len(set(ip_list)))    \n",
    "print(set(ip_list))"
   ]
  },
  {
   "cell_type": "code",
   "execution_count": 32,
   "metadata": {},
   "outputs": [
    {
     "data": {
      "text/plain": [
       "{'111.63.51.103': 12,\n",
       " '42.81.93.105': 10,\n",
       " '36.104.40.199': 9,\n",
       " '180.76.22.232': 9,\n",
       " '120.199.69.103': 9,\n",
       " '36.104.142.50': 8,\n",
       " '111.63.51.105': 8,\n",
       " '112.84.34.105': 8,\n",
       " '163.177.8.105': 8,\n",
       " '222.199.191.50': 7,\n",
       " '180.76.22.115': 7,\n",
       " '222.199.191.63': 7,\n",
       " '112.96.179.170': 6,\n",
       " '119.188.176.105': 6,\n",
       " '120.199.69.105': 6,\n",
       " '117.136.45.101': 5,\n",
       " '219.216.176.154': 5,\n",
       " '58.215.118.105': 5,\n",
       " '39.174.128.178': 5,\n",
       " '58.215.98.50': 5,\n",
       " '117.61.137.101': 4,\n",
       " '223.111.127.75': 4,\n",
       " '221.0.95.244': 4,\n",
       " '111.177.3.105': 3,\n",
       " '219.228.146.115': 3,\n",
       " '36.22.155.247': 3,\n",
       " '117.136.0.210': 3,\n",
       " '223.87.229.217': 3,\n",
       " '117.136.66.218': 3,\n",
       " '111.6.225.63': 3,\n",
       " '112.84.34.103': 3,\n",
       " '117.152.221.42': 3,\n",
       " '111.117.112.177': 3,\n",
       " '111.177.3.115': 3,\n",
       " '125.41.236.58': 3,\n",
       " '112.224.75.103': 3,\n",
       " '36.27.216.68': 2,\n",
       " '180.163.198.103': 2,\n",
       " '58.215.98.75': 2,\n",
       " '183.216.160.78': 2,\n",
       " '42.185.150.80': 2,\n",
       " '117.136.8.230': 2,\n",
       " '119.188.176.115': 2,\n",
       " '180.160.145.51': 2,\n",
       " '111.1.52.50': 2,\n",
       " '42.81.93.115': 2,\n",
       " '116.95.27.55': 2,\n",
       " '112.84.34.115': 2,\n",
       " '111.1.52.75': 2,\n",
       " '180.76.22.186': 2,\n",
       " '218.89.243.64': 2,\n",
       " '111.6.225.55': 2,\n",
       " '61.238.139.186': 2,\n",
       " '221.180.244.50': 2,\n",
       " '111.6.225.50': 2,\n",
       " '117.181.20.231': 2,\n",
       " '125.64.99.103': 2,\n",
       " '123.138.42.50': 2,\n",
       " '115.154.23.13': 2,\n",
       " '58.215.118.115': 2,\n",
       " '111.177.3.103': 2,\n",
       " '58.194.168.69': 2,\n",
       " '183.216.160.75': 2,\n",
       " '223.111.127.78': 2,\n",
       " '219.224.52.129': 2,\n",
       " '220.195.66.7': 2,\n",
       " '222.34.4.4': 2,\n",
       " '223.111.127.50': 2,\n",
       " '117.136.87.33': 1,\n",
       " '202.121.181.104': 1,\n",
       " '111.1.52.78': 1,\n",
       " '58.218.185.160': 1,\n",
       " '157.255.172.20': 1,\n",
       " '163.177.8.95': 1,\n",
       " '112.45.121.50': 1,\n",
       " '123.139.42.195': 1,\n",
       " '112.45.121.78': 1,\n",
       " '111.20.242.50': 1,\n",
       " '113.200.85.153': 1,\n",
       " '61.151.178.180': 1,\n",
       " '119.188.176.116': 1,\n",
       " '58.218.185.110': 1,\n",
       " '222.56.79.50': 1,\n",
       " '202.98.17.207': 1,\n",
       " '112.45.121.75': 1,\n",
       " '222.199.191.55': 1,\n",
       " '36.104.142.63': 1,\n",
       " '27.45.53.139': 1,\n",
       " '112.84.34.116': 1,\n",
       " '219.147.233.50': 1,\n",
       " '183.230.27.8': 1,\n",
       " '183.230.68.105': 1,\n",
       " '39.129.5.43': 1,\n",
       " '139.215.221.50': 1,\n",
       " '111.62.0.105': 1,\n",
       " '123.184.220.50': 1,\n",
       " '180.163.198.105': 1,\n",
       " '58.215.98.78': 1,\n",
       " '157.255.172.22': 1,\n",
       " '119.188.176.103': 1,\n",
       " '36.27.216.63': 1,\n",
       " '58.215.118.78': 1,\n",
       " '111.62.0.103': 1,\n",
       " '59.45.22.139': 1,\n",
       " '221.195.34.105': 1,\n",
       " '221.176.187.237': 1,\n",
       " '183.216.160.50': 1,\n",
       " '219.147.233.63': 1}"
      ]
     },
     "execution_count": 32,
     "metadata": {},
     "output_type": "execute_result"
    }
   ],
   "source": [
    "ip_num = dict(thh_log['ip_1'].value_counts())\n",
    "# type(ip_num)  dict\n",
    "# len(ip_num)  108\n",
    "ip_num\n"
   ]
  },
  {
   "cell_type": "code",
   "execution_count": 33,
   "metadata": {},
   "outputs": [
    {
     "data": {
      "text/plain": [
       "300"
      ]
     },
     "execution_count": 33,
     "metadata": {},
     "output_type": "execute_result"
    }
   ],
   "source": [
    "sum = 0\n",
    "for v in ip_num.values():\n",
    "    sum += v\n",
    "sum"
   ]
  },
  {
   "cell_type": "code",
   "execution_count": 34,
   "metadata": {},
   "outputs": [
    {
     "data": {
      "text/plain": [
       "{'GET /CUMCM2018.exe HTTP/1.1': 155,\n",
       " 'GET /favicon.ico HTTP/1.1': 87,\n",
       " 'GET /2018CUMCM-AB.rar HTTP/1.1': 40,\n",
       " 'HEAD /CUMCM2018.exe HTTP/1.1': 3,\n",
       " 'GET /2018CUMCM-AB.rar?nsukey=XqhvAC1ZP4N4dzXAQtNXrGGkm85IaFnZuiZVoG9IkVVeHWj2sexRM3UVgE483UjUNZhuMWhhCx6UMTYc5H0e%2BFZ9znyY%2F3o93ZFJfmt63cv4Cc0g91jGZqb%2Bfbsrv8BTZmBoZoglcITMbU2pcVbEVOE3pjI538UlPnxBfFIqgoLJy0axRyX4%2BMB5nGKq3lsymL3qU8D9JZg6QobD3s3LoA%3D%3D HTTP/1.1': 3,\n",
       " 'GET /2018CUMCM-CD.rar HTTP/1.1': 3,\n",
       " 'GET /2018CUMCM-AB.rar?nsukey=XqhvAC1ZP4N4dzXAQtNXrGGkm85IaFnZuiZVoG9IkVVeHWj2sexRM3UVgE483UjUNZhuMWhhCx6UMTYc5H0e2BFZ9znyY2F3o93ZFJfmt63cv4Cc0g91jGZqb2Bfbsrv8BTZmBoZoglcITMbU2pcVbEVOE3pjI538UlPnxBfFIqgoLJy0axRyX42BMB5nGKq3lsymL3qU8D9JZg6QobD3s3LoA3D3D HTTP/1.1': 3,\n",
       " 'GET / HTTP/1.1': 2,\n",
       " 'GET /CUMCM2018.exe?nsukey=2BEmC20U5GaAE2FmRz6ipFr7f6BCb5R2FT07QotSTkLND0trzhUZKRCala93NI0a9mOtoX61gDU2NtlOX6pbmJy6jWtFhP1y0QbhfvM4ZvXw4upn8UO1GQOI7l8ZmkPniC2F9E8tXaEYb9umh40UViA4D0H635hVx509r2BMnp1RvG63z2TJBrbCGW72nPSBH0wX9R1uVbk56UAJwShgNFWbJgw3D3D HTTP/1.1': 2,\n",
       " 'GET /CUMCM2018.exe?nsukey=%2BEmC20U5GaAE%2FmRz6ipFr7f6BCb5R%2FT07QotSTkLND0trzhUZKRCala93NI0a9mOtoX61gDU2NtlOX6pbmJy6jWtFhP1y0QbhfvM4ZvXw4upn8UO1GQOI7l8ZmkPniC%2F9E8tXaEYb9umh40UViA4D0H635hVx509r%2BMnp1RvG63z2TJBrbCGW72nPSBH0wX9R1uVbk56UAJwShgNFWbJgw%3D%3D HTTP/1.1': 2}"
      ]
     },
     "execution_count": 34,
     "metadata": {},
     "output_type": "execute_result"
    }
   ],
   "source": [
    "get_method = dict(thh_log['get'].value_counts())\n",
    "get_method"
   ]
  },
  {
   "cell_type": "code",
   "execution_count": 35,
   "metadata": {},
   "outputs": [
    {
     "name": "stdout",
     "output_type": "stream",
     "text": [
      "25\n"
     ]
    },
    {
     "data": {
      "text/plain": [
       "{'Mozilla/5.0 (Windows NT 10.0; WOW64) AppleWebKit/537.36 (KHTML, like Gecko) Chrome/63.0.3239.132 Safari/537.36': 51,\n",
       " 'Mozilla/5.0 (Windows NT 10.0; Win64; x64) AppleWebKit/537.36 (KHTML, like Gecko) Chrome/64.0.3282.140 Safari/537.36 Edge/17.17134': 36,\n",
       " 'Mozilla/5.0 (Windows NT 10.0; WOW64) AppleWebKit/537.36 (KHTML, like Gecko) Chrome/68.0.3440.75 Safari/537.36': 27,\n",
       " 'Mozilla/5.0 (Windows NT 10.0; WOW64) AppleWebKit/537.36 (KHTML, like Gecko) Chrome/68.0.3440.106 Safari/537.36': 26,\n",
       " 'Mozilla/5.0 (Windows NT 10.0; Win64; x64) AppleWebKit/537.36 (KHTML, like Gecko) Chrome/58.0.3029.110 Safari/537.36 Edge/16.16299': 21,\n",
       " 'Mozilla/5.0 (Windows NT 6.1; WOW64) AppleWebKit/537.36 (KHTML, like Gecko) Chrome/63.0.3239.132 Safari/537.36': 12,\n",
       " 'Mozilla/5.0 (Windows NT 10.0; WOW64) AppleWebKit/537.36 (KHTML, like Gecko) Chrome/55.0.2883.87 UBrowser/6.2.4094.1 Safari/537.36': 12,\n",
       " 'Mozilla/5.0 (Macintosh; Intel Mac OS X 10_13_6) AppleWebKit/537.36 (KHTML, like Gecko) Chrome/68.0.3440.106 Safari/537.36': 11,\n",
       " 'Mozilla/5.0 (Linux; Android 8.1; BLA-AL00 Build/HUAWEIBLA-AL00; wv) AppleWebKit/537.36 (KHTML, like Gecko) Version/4.0 Chrome/57.0.2987.132 MQQBrowser/6.2 TBS/044207 Mobile Safari/537.36 MicroMessenger/6.7.2.1340(0x2607023A) NetType/4G Language/zh_CN': 11,\n",
       " 'Mozilla/5.0 (Windows NT 6.1; WOW64) AppleWebKit/537.36 (KHTML, like Gecko) Chrome/55.0.2883.87 Safari/537.36': 9,\n",
       " 'Mozilla/5.0 (Windows NT 10.0; WOW64) AppleWebKit/537.36 (KHTML, like Gecko) Chrome/55.0.2883.87 Safari/537.36': 9,\n",
       " 'Mozilla/5.0 (Windows NT 10.0; WOW64; rv:62.0) Gecko/20100101 Firefox/62.0': 9,\n",
       " 'Mozilla/5.0 (Windows NT 10.0; WOW64) AppleWebKit/537.36 (KHTML, like Gecko) Chrome/63.0.3239.26 Safari/537.36 Core/1.63.6726.400 QQBrowser/10.2.2265.400': 9,\n",
       " 'Mozilla/5.0 (Windows NT 10.0; Win64; x64; rv:61.0) Gecko/20100101 Firefox/61.0': 8,\n",
       " 'Mozilla/5.0 (Windows NT 10.0; WOW64) AppleWebKit/537.36 (KHTML, like Gecko) Chrome/56.0.2924.90 Safari/537.36 2345Explorer/9.4.2.17629': 6,\n",
       " 'Mozilla/5.0 (Windows NT 6.1; WOW64) AppleWebKit/537.36 (KHTML, like Gecko) Chrome/49.0.2623.221 Safari/537.36 SE 2.X MetaSr 1.0': 6,\n",
       " 'Mozilla/5.0 (Windows NT 10.0; Win64; x64) AppleWebKit/537.36 (KHTML, like Gecko) Chrome/68.0.3440.106 Safari/537.36': 6,\n",
       " 'Mozilla/5.0 (Linux; Android 5.1; OPPO A37m Build/LMY47I; wv) AppleWebKit/537.36 (KHTML, like Gecko) Version/4.0 Chrome/63.0.3239.83 Mobile Safari/537.36 T7/10.12 baiduboxapp/10.12.0.12 (Baidu; P1 5.1)': 6,\n",
       " 'Mozilla/5.0 (Windows NT 10.0; Win64; x64) AppleWebKit/537.36 (KHTML, like Gecko) Chrome/69.0.3497.81 Safari/537.36': 6,\n",
       " 'Mozilla/5.0 (iPhone; CPU iPhone OS 7_0_2 like Mac OS X) AppleWebKit/537.51.1 (KHTML, like Gecko) CriOS/30.0.1599.12 Mobile/11A501 Safari/8536.25 MicroMessenger/6.1.0': 5,\n",
       " 'Mozilla/5.0 (Windows NT 6.1; WOW64) AppleWebKit/537.36 (KHTML, like Gecko) Chrome/39.0.2171.95 Safari/537.36 MicroMessenger/6.5.2.501 NetType/WIFI WindowsWechat QBCore/3.43.901.400 QQBrowser/9.0.2524.400': 4,\n",
       " 'Mozilla/5.0 (iPhone; CPU iPhone OS 11_3 like Mac OS X) AppleWebKit/605.1.15 (KHTML, like Gecko) Mobile/15E216 QQ/7.7.8.421 V1_IPH_SQ_7.7.8_1_APP_A Pixel/750 Core/UIWebView Device/Apple(iPhone 6s) NetType/WIFI QBWebViewType/1': 3,\n",
       " 'Mozilla/5.0 (Windows NT 10.0; Win64; x64) AppleWebKit/537.36 (KHTML, like Gecko) Chrome/52.0.2743.116 Safari/537.36 Edge/15.15063': 3,\n",
       " 'Mozilla/5.0 (Windows; U; Windows NT 5.1; zh-CN; rv:1.9b4) Gecko/2008030317 Firefox/3.0b4': 2,\n",
       " 'Mozilla/5.0 (Windows NT 10.0; WOW64) AppleWebKit/537.36 (KHTML, like Gecko) Chrome/63.0.3239.26 Safari/537.36 Core/1.63.5514.400 QQBrowser/10.1.1628.400': 2}"
      ]
     },
     "execution_count": 35,
     "metadata": {},
     "output_type": "execute_result"
    }
   ],
   "source": [
    "browser_type = dict(thh_log['browser'].value_counts())\n",
    "print(len(browser_type))\n",
    "#print(browser_type)\n",
    "browser_type"
   ]
  },
  {
   "cell_type": "code",
   "execution_count": 36,
   "metadata": {},
   "outputs": [
    {
     "name": "stdout",
     "output_type": "stream",
     "text": [
      "5\n"
     ]
    },
    {
     "data": {
      "text/plain": [
       "{'http://cumcm.cnki.net/cumcm//studentHome/studentHome': 201,\n",
       " 'http://cnki.cdn.bcebos.com/CUMCM2018.exe': 42,\n",
       " '-': 39,\n",
       " 'http://cnki.cdn.bcebos.com/2018CUMCM-AB.rar': 15,\n",
       " 'http://cnki.cdn.bcebos.com/2018CUMCM-AB.rar?nsukey=XqhvAC1ZP4N4dzXAQtNXrGGkm85IaFnZuiZVoG9IkVVeHWj2sexRM3UVgE483UjUNZhuMWhhCx6UMTYc5H0e%2BFZ9znyY%2F3o93ZFJfmt63cv4Cc0g91jGZqb%2Bfbsrv8BTZmBoZoglcITMbU2pcVbEVOE3pjI538UlPnxBfFIqgoLJy0axRyX4%2BMB5nGKq3lsymL3qU8D9JZg6QobD3s3LoA%3D%3D': 3}"
      ]
     },
     "execution_count": 36,
     "metadata": {},
     "output_type": "execute_result"
    }
   ],
   "source": [
    "url_type = dict(thh_log['url'].value_counts())\n",
    "print(len(url_type))\n",
    "#print(url_type)\n",
    "url_type"
   ]
  },
  {
   "cell_type": "code",
   "execution_count": 37,
   "metadata": {},
   "outputs": [
    {
     "name": "stdout",
     "output_type": "stream",
     "text": [
      "9\n"
     ]
    },
    {
     "data": {
      "text/plain": [
       "{'-': 271,\n",
       " '__guid=141700960.4315215346076913000.1536750087490.9688; monitor_count=1': 6,\n",
       " 'lang=zh': 5,\n",
       " '__guid=141700960.2174463798317252900.1536748157769.7764; monitor_count=6': 3,\n",
       " '__guid=141700960.4122941879506484000.1536749642949.692; monitor_count=3': 3,\n",
       " '__guid=141700960.2294804920719535600.1536750059369.6423; monitor_count=1': 3,\n",
       " '__guid=141700960.887040413421089500.1536750165449.4753; monitor_count=1': 3,\n",
       " '__guid=141700960.3445662407389419500.1536749887223.2832; monitor_count=6': 3,\n",
       " '__guid=141700960.1971321614214163200.1536750259720.569; monitor_count=1': 3}"
      ]
     },
     "execution_count": 37,
     "metadata": {},
     "output_type": "execute_result"
    }
   ],
   "source": [
    "guid_type = dict(thh_log['guid'].value_counts())\n",
    "print(len(guid_type))\n",
    "#print(browser_type)\n",
    "guid_type"
   ]
  },
  {
   "cell_type": "code",
   "execution_count": 38,
   "metadata": {},
   "outputs": [
    {
     "data": {
      "text/plain": [
       "<BarContainer object of 9 artists>"
      ]
     },
     "execution_count": 38,
     "metadata": {},
     "output_type": "execute_result"
    },
    {
     "data": {
      "image/png": "[encoded data removed]",
      "text/plain": [
       "<Figure size 432x288 with 1 Axes>"
      ]
     },
     "metadata": {},
     "output_type": "display_data"
    }
   ],
   "source": [
    "%matplotlib inline\n",
    "import numpy as np\n",
    "import matplotlib.pyplot as plt\n",
    "plt.style.use('seaborn-white')\n",
    "\n",
    "guid_type={'-': 271,\n",
    " '__guid=141700960.4315215346076913000.1536750087490.9688; monitor_count=1': 6,\n",
    " 'lang=zh': 5,\n",
    " '__guid=141700960.2174463798317252900.1536748157769.7764; monitor_count=6': 3,\n",
    " '__guid=141700960.4122941879506484000.1536749642949.692; monitor_count=3': 3,\n",
    " '__guid=141700960.887040413421089500.1536750165449.4753; monitor_count=1': 3,\n",
    " '__guid=141700960.1971321614214163200.1536750259720.569; monitor_count=1': 3,\n",
    " '__guid=141700960.2294804920719535600.1536750059369.6423; monitor_count=1': 3,\n",
    " '__guid=141700960.3445662407389419500.1536749887223.2832; monitor_count=6': 3}\n",
    "\n",
    "guid_type_alias={'-': 271,\n",
    " 'B': 6,\n",
    " 'lang=zh': 5,\n",
    " 'C': 3,\n",
    " 'D': 3,\n",
    " 'E': 3,\n",
    " 'F': 3,\n",
    " 'G': 3,\n",
    " 'H': 3}\n",
    "\n",
    "\n",
    "x = []\n",
    "y =[]\n",
    "for k,v in guid_type_alias.items():\n",
    "    x.append(k)\n",
    "    y.append(v)\n",
    "# print(x)\n",
    "# print(y)\n",
    "\n",
    "plt.bar(x , y, width=0.3 , color='r')\n"
   ]
  },
  {
   "cell_type": "code",
   "execution_count": 39,
   "metadata": {},
   "outputs": [
    {
     "name": "stdout",
     "output_type": "stream",
     "text": [
      "67\n"
     ]
    },
    {
     "data": {
      "text/plain": [
       "{'[12/Sep/2018:19:01:28 +0800]': 15,\n",
       " '[12/Sep/2018:19:02:32 +0800]': 9,\n",
       " '[12/Sep/2018:19:00:47 +0800]': 9,\n",
       " '[12/Sep/2018:19:00:55 +0800]': 9,\n",
       " '[12/Sep/2018:19:01:27 +0800]': 7,\n",
       " '[12/Sep/2018:19:02:52 +0800]': 6,\n",
       " '[12/Sep/2018:19:01:25 +0800]': 6,\n",
       " '[12/Sep/2018:19:01:54 +0800]': 6,\n",
       " '[12/Sep/2018:19:01:38 +0800]': 6,\n",
       " '[12/Sep/2018:19:02:46 +0800]': 6,\n",
       " '[12/Sep/2018:19:02:58 +0800]': 6,\n",
       " '[12/Sep/2018:19:00:02 +0800]': 6,\n",
       " '[12/Sep/2018:19:02:49 +0800]': 6,\n",
       " '[12/Sep/2018:19:00:57 +0800]': 6,\n",
       " '[12/Sep/2018:19:02:12 +0800]': 6,\n",
       " '[12/Sep/2018:19:01:24 +0800]': 6,\n",
       " '[12/Sep/2018:19:01:19 +0800]': 6,\n",
       " '[12/Sep/2018:19:02:15 +0800]': 6,\n",
       " '[12/Sep/2018:19:02:26 +0800]': 6,\n",
       " '[12/Sep/2018:19:02:48 +0800]': 6,\n",
       " '[12/Sep/2018:19:02:43 +0800]': 6,\n",
       " '[12/Sep/2018:19:01:44 +0800]': 6,\n",
       " '[12/Sep/2018:19:00:45 +0800]': 6,\n",
       " '[12/Sep/2018:19:01:05 +0800]': 6,\n",
       " '[12/Sep/2018:19:00:12 +0800]': 6,\n",
       " '[12/Sep/2018:19:02:24 +0800]': 5,\n",
       " '[12/Sep/2018:19:02:01 +0800]': 5,\n",
       " '[12/Sep/2018:19:02:09 +0800]': 5,\n",
       " '[12/Sep/2018:19:02:08 +0800]': 5,\n",
       " '[12/Sep/2018:19:02:31 +0800]': 5,\n",
       " '[12/Sep/2018:19:01:11 +0800]': 4,\n",
       " '[12/Sep/2018:19:00:22 +0800]': 3,\n",
       " '[12/Sep/2018:19:00:20 +0800]': 3,\n",
       " '[12/Sep/2018:19:01:04 +0800]': 3,\n",
       " '[12/Sep/2018:19:01:17 +0800]': 3,\n",
       " '[12/Sep/2018:19:00:51 +0800]': 3,\n",
       " '[12/Sep/2018:19:01:46 +0800]': 3,\n",
       " '[12/Sep/2018:19:00:56 +0800]': 3,\n",
       " '[12/Sep/2018:19:02:39 +0800]': 3,\n",
       " '[12/Sep/2018:19:02:03 +0800]': 3,\n",
       " '[12/Sep/2018:19:00:46 +0800]': 3,\n",
       " '[12/Sep/2018:19:02:50 +0800]': 3,\n",
       " '[12/Sep/2018:19:02:30 +0800]': 3,\n",
       " '[12/Sep/2018:19:01:42 +0800]': 3,\n",
       " '[12/Sep/2018:19:01:47 +0800]': 3,\n",
       " '[12/Sep/2018:19:01:48 +0800]': 3,\n",
       " '[12/Sep/2018:19:00:35 +0800]': 3,\n",
       " '[12/Sep/2018:19:02:14 +0800]': 3,\n",
       " '[12/Sep/2018:19:00:58 +0800]': 3,\n",
       " '[12/Sep/2018:19:02:33 +0800]': 3,\n",
       " '[12/Sep/2018:19:00:21 +0800]': 3,\n",
       " '[12/Sep/2018:19:02:13 +0800]': 3,\n",
       " '[12/Sep/2018:19:00:29 +0800]': 3,\n",
       " '[12/Sep/2018:19:00:01 +0800]': 3,\n",
       " '[12/Sep/2018:19:02:17 +0800]': 3,\n",
       " '[12/Sep/2018:19:02:34 +0800]': 3,\n",
       " '[12/Sep/2018:19:00:08 +0800]': 3,\n",
       " '[12/Sep/2018:19:00:38 +0800]': 3,\n",
       " '[12/Sep/2018:19:01:33 +0800]': 3,\n",
       " '[12/Sep/2018:19:02:10 +0800]': 3,\n",
       " '[12/Sep/2018:19:02:57 +0800]': 3,\n",
       " '[12/Sep/2018:19:01:32 +0800]': 3,\n",
       " '[12/Sep/2018:19:01:01 +0800]': 2,\n",
       " '[12/Sep/2018:19:01:10 +0800]': 2,\n",
       " '[12/Sep/2018:19:02:41 +0800]': 2,\n",
       " '[12/Sep/2018:19:01:58 +0800]': 2,\n",
       " '[12/Sep/2018:19:02:02 +0800]': 1}"
      ]
     },
     "execution_count": 39,
     "metadata": {},
     "output_type": "execute_result"
    }
   ],
   "source": [
    "time_duration = dict(thh_log['time'].value_counts())\n",
    "print(len(time_duration))\n",
    "#print(browser_type)\n",
    "time_duration"
   ]
  },
  {
   "cell_type": "code",
   "execution_count": 53,
   "metadata": {},
   "outputs": [
    {
     "name": "stdout",
     "output_type": "stream",
     "text": [
      "67\n"
     ]
    },
    {
     "data": {
      "text/plain": [
       "{'19:01:28': 15,\n",
       " '19:02:32': 9,\n",
       " '19:00:47': 9,\n",
       " '19:00:55': 9,\n",
       " '19:01:27': 7,\n",
       " '19:02:52': 6,\n",
       " '19:01:25': 6,\n",
       " '19:01:54': 6,\n",
       " '19:01:38': 6,\n",
       " '19:02:46': 6,\n",
       " '19:02:58': 6,\n",
       " '19:00:02': 6,\n",
       " '19:02:49': 6,\n",
       " '19:00:57': 6,\n",
       " '19:02:12': 6,\n",
       " '19:01:24': 6,\n",
       " '19:01:19': 6,\n",
       " '19:02:15': 6,\n",
       " '19:02:26': 6,\n",
       " '19:02:48': 6,\n",
       " '19:02:43': 6,\n",
       " '19:01:44': 6,\n",
       " '19:00:45': 6,\n",
       " '19:01:05': 6,\n",
       " '19:00:12': 6,\n",
       " '19:02:24': 5,\n",
       " '19:02:01': 5,\n",
       " '19:02:09': 5,\n",
       " '19:02:08': 5,\n",
       " '19:02:31': 5,\n",
       " '19:01:11': 4,\n",
       " '19:00:22': 3,\n",
       " '19:00:20': 3,\n",
       " '19:01:04': 3,\n",
       " '19:01:17': 3,\n",
       " '19:00:51': 3,\n",
       " '19:01:46': 3,\n",
       " '19:00:56': 3,\n",
       " '19:02:39': 3,\n",
       " '19:02:03': 3,\n",
       " '19:00:46': 3,\n",
       " '19:02:50': 3,\n",
       " '19:02:30': 3,\n",
       " '19:01:42': 3,\n",
       " '19:01:47': 3,\n",
       " '19:01:48': 3,\n",
       " '19:00:35': 3,\n",
       " '19:02:14': 3,\n",
       " '19:00:58': 3,\n",
       " '19:02:33': 3,\n",
       " '19:00:21': 3,\n",
       " '19:02:13': 3,\n",
       " '19:00:29': 3,\n",
       " '19:00:01': 3,\n",
       " '19:02:17': 3,\n",
       " '19:02:34': 3,\n",
       " '19:00:08': 3,\n",
       " '19:00:38': 3,\n",
       " '19:01:33': 3,\n",
       " '19:02:10': 3,\n",
       " '19:02:57': 3,\n",
       " '19:01:32': 3,\n",
       " '19:01:01': 2,\n",
       " '19:01:10': 2,\n",
       " '19:02:41': 2,\n",
       " '19:01:58': 2,\n",
       " '19:02:02': 1}"
      ]
     },
     "execution_count": 53,
     "metadata": {},
     "output_type": "execute_result"
    }
   ],
   "source": [
    "import re\n",
    "time_dict = {}\n",
    "for k,v in time_duration.items():    \n",
    "    pattern = '.*((\\d\\d)\\:(\\d\\d)\\:(\\d\\d))'\n",
    "    match_success =re.match(pattern, k, re.I|re.M)\n",
    "    if match_success:\n",
    "        time_dict.update({match_success.group(1):v})\n",
    "        #time_list.append(match_success.group(1))\n",
    "        #print(match_success.group(1))\n",
    "print(len(time_dict))\n",
    "time_dict        "
   ]
  },
  {
   "cell_type": "code",
   "execution_count": 62,
   "metadata": {},
   "outputs": [
    {
     "data": {
      "text/plain": [
       "<BarContainer object of 67 artists>"
      ]
     },
     "execution_count": 62,
     "metadata": {},
     "output_type": "execute_result"
    },
    {
     "data": {
      "image/png": "[encoded data removed]",
      "text/plain": [
       "<Figure size 432x288 with 1 Axes>"
      ]
     },
     "metadata": {},
     "output_type": "display_data"
    }
   ],
   "source": [
    "%matplotlib inline\n",
    "import numpy as np\n",
    "import matplotlib.pyplot as plt\n",
    "import matplotlib.dates as mdate\n",
    "\n",
    "plt.style.use('seaborn-white')\n",
    "\n",
    "# fig1 = plt.figure(figsize=(15,5))\n",
    "# ax1 = fig1.add_subplot(1,1,1)\n",
    "# ax1.xaxis.set_major_formatter(mdate.DateFormatter('%H;%M;%S'))#设置时间标签显示格式\n",
    "# plt.xticks(rotation=90)   不对\n",
    "\n",
    "\n",
    "x = []\n",
    "y = []\n",
    "for k,v in time_dict.items():\n",
    "    x.append(k)\n",
    "    y.append(v)\n",
    "# n = 10\n",
    "\n",
    "# ax = locks.plot(kind='bar', y='SUM')\n",
    "# ticks = ax.xaxis.get_ticklocs()\n",
    "# ticklabels = [l.get_text() for l in ax.xaxis.get_ticklabels()]\n",
    "# ax.xaxis.set_ticks(ticks[::n])\n",
    "# ax.xaxis.set_ticklabels(ticklabels[::n])\n",
    "\n",
    "# ax.figure.show()\n",
    "# print(x)\n",
    "# print(y)\n",
    "\n",
    "plt.bar(x , y, width=0.3 , color='r')"
   ]
  },
  {
   "cell_type": "code",
   "execution_count": null,
   "metadata": {},
   "outputs": [],
   "source": []
  }
 ],
 "metadata": {
  "kernelspec": {
   "display_name": "Python 3",
   "language": "python",
   "name": "python3"
  },
  "language_info": {
   "codemirror_mode": {
    "name": "ipython",
    "version": 3
   },
   "file_extension": ".py",
   "mimetype": "text/x-python",
   "name": "python",
   "nbconvert_exporter": "python",
   "pygments_lexer": "ipython3",
   "version": "3.6.5"
  }
 },
 "nbformat": 4,
 "nbformat_minor": 2
}
