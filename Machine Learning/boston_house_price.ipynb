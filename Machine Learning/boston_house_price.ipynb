{
 "cells": [
  {
   "cell_type": "markdown",
   "metadata": {},
   "source": [
    "# Python机器学习项目的模板\n",
    "\n",
    "## 1. 定义问题\n",
    "### a) 导入类库\n",
    "### b) 导入数据集\n",
    "\n",
    "## 2. 理解数据\n",
    "### a) 描述性统计\n",
    "### b) 数据可视化\n",
    "\n",
    "## 3. 数据准备\n",
    "### a) 数据清洗\n",
    "### b) 特征选择\n",
    "### c) 数据转换\n",
    "\n",
    "## 4. 评估算法\n",
    "### a) 分离数据集\n",
    "### b) 定义模型评估标准\n",
    "### c) 算法审查\n",
    "### d) 算法比较\n",
    "\n",
    "## 5. 优化模型\n",
    "### a) 算法调参\n",
    "### b) 集成算法\n",
    "\n",
    "## 6. 结果部署\n",
    "### a) 预测评估数据集\n",
    "### b) 利用整个数据集生成模型\n",
    "### c) 序列化模型"
   ]
  },
  {
   "cell_type": "markdown",
   "metadata": {},
   "source": [
    "## 1）a) 导入类库"
   ]
  },
  {
   "cell_type": "code",
   "execution_count": 2,
   "metadata": {},
   "outputs": [],
   "source": [
    "import numpy as np\n",
    "from numpy import arange\n",
    "\n",
    "from matplotlib import pyplot\n",
    "\n",
    "import pandas as pd          #  pandas 0.18.1 documentation\n",
    "from pandas import read_csv\n",
    "from pandas import  set_option\n",
    "from pandas.plotting import scatter_matrix\n",
    "\n",
    "import sklearn\n",
    "from sklearn import datasets\n",
    "from sklearn.preprocessing import StandardScaler        # 特征缩放\n",
    "from sklearn.model_selection import train_test_split    # 训练集 测试集\n",
    "from sklearn.model_selection import KFold               # K折交叉验证\n",
    "from sklearn.model_selection import cross_val_score \n",
    "from sklearn.model_selection import GridSearchCV\n",
    "from sklearn.linear_model import LinearRegression      # LR\n",
    "from sklearn.linear_model import Lasso                 # LASSO\n",
    "from sklearn.linear_model import ElasticNet            # EN\n",
    "from sklearn.tree import DecisionTreeRegressor         # DTR\n",
    "from sklearn.neighbors import KNeighborsRegressor      # KNR\n",
    "from sklearn.svm import SVR \n",
    "from sklearn.pipeline import Pipeline\n",
    "from sklearn.ensemble import RandomForestRegressor\n",
    "from sklearn.ensemble import GradientBoostingRegressor\n",
    "from sklearn.ensemble import ExtraTreesRegressor\n",
    "from sklearn.ensemble import AdaBoostRegressor\n",
    "from sklearn.metrics import mean_squared_error"
   ]
  },
  {
   "cell_type": "markdown",
   "metadata": {},
   "source": [
    "## 1）b) 导入数据集"
   ]
  },
  {
   "cell_type": "code",
   "execution_count": 6,
   "metadata": {},
   "outputs": [
    {
     "name": "stdout",
     "output_type": "stream",
     "text": [
      "(506, 13)\n",
      "(506,)\n"
     ]
    }
   ],
   "source": [
    "# 可以直接通过datasets导入数据集\n",
    "\n",
    "boston = datasets.load_boston()  # 导入数据集\n",
    "x = boston.data    # 获得其特征向量\n",
    "y = boston.target  # 获得样本label\n",
    "\n",
    "print (x.shape)    # boston.data.shape\n",
    "print (y.shape)\n",
    "\n",
    "# x.head() 只有pandas的DataFrame有head()，tail()方法; 'numpy.ndarray' object has no attribute 'head'"
   ]
  },
  {
   "cell_type": "code",
   "execution_count": 5,
   "metadata": {},
   "outputs": [],
   "source": [
    "#  为了方便将数据保存下来，导入\n",
    "\n",
    "filename = 'G:/boston.csv '   # G:/ 或者 G:\\\\\n",
    "names = ['CRIM', 'ZN', 'INDUS', 'CHAS', 'NOX', 'RM', 'AGE', 'DIS',\n",
    "         'RAD', 'TAX', 'PRTATIO', 'B', 'LSTAT', 'MEDV']\n",
    "data = pd.read_csv(filename, names=names, delim_whitespace=True)    # 导入为DataFrame对象"
   ]
  },
  {
   "cell_type": "markdown",
   "metadata": {},
   "source": [
    "## 2) a) 描述性统计"
   ]
  },
  {
   "cell_type": "code",
   "execution_count": 23,
   "metadata": {
    "scrolled": true
   },
   "outputs": [
    {
     "data": {
      "text/html": [
       "<div>\n",
       "<style scoped>\n",
       "    .dataframe tbody tr th:only-of-type {\n",
       "        vertical-align: middle;\n",
       "    }\n",
       "\n",
       "    .dataframe tbody tr th {\n",
       "        vertical-align: top;\n",
       "    }\n",
       "\n",
       "    .dataframe thead th {\n",
       "        text-align: right;\n",
       "    }\n",
       "</style>\n",
       "<table border=\"1\" class=\"dataframe\">\n",
       "  <thead>\n",
       "    <tr style=\"text-align: right;\">\n",
       "      <th></th>\n",
       "      <th>CRIM</th>\n",
       "      <th>ZN</th>\n",
       "      <th>INDUS</th>\n",
       "      <th>CHAS</th>\n",
       "      <th>NOX</th>\n",
       "      <th>RM</th>\n",
       "      <th>AGE</th>\n",
       "      <th>DIS</th>\n",
       "      <th>RAD</th>\n",
       "      <th>TAX</th>\n",
       "      <th>PRTATIO</th>\n",
       "      <th>B</th>\n",
       "      <th>LSTAT</th>\n",
       "      <th>MEDV</th>\n",
       "    </tr>\n",
       "  </thead>\n",
       "  <tbody>\n",
       "    <tr>\n",
       "      <th>0</th>\n",
       "      <td>0.00632</td>\n",
       "      <td>18.0</td>\n",
       "      <td>2.31</td>\n",
       "      <td>0</td>\n",
       "      <td>0.538</td>\n",
       "      <td>6.575</td>\n",
       "      <td>65.2</td>\n",
       "      <td>4.0900</td>\n",
       "      <td>1</td>\n",
       "      <td>296.0</td>\n",
       "      <td>15.3</td>\n",
       "      <td>396.90</td>\n",
       "      <td>4.98</td>\n",
       "      <td>24.0</td>\n",
       "    </tr>\n",
       "    <tr>\n",
       "      <th>1</th>\n",
       "      <td>0.02731</td>\n",
       "      <td>0.0</td>\n",
       "      <td>7.07</td>\n",
       "      <td>0</td>\n",
       "      <td>0.469</td>\n",
       "      <td>6.421</td>\n",
       "      <td>78.9</td>\n",
       "      <td>4.9671</td>\n",
       "      <td>2</td>\n",
       "      <td>242.0</td>\n",
       "      <td>17.8</td>\n",
       "      <td>396.90</td>\n",
       "      <td>9.14</td>\n",
       "      <td>21.6</td>\n",
       "    </tr>\n",
       "    <tr>\n",
       "      <th>2</th>\n",
       "      <td>0.02729</td>\n",
       "      <td>0.0</td>\n",
       "      <td>7.07</td>\n",
       "      <td>0</td>\n",
       "      <td>0.469</td>\n",
       "      <td>7.185</td>\n",
       "      <td>61.1</td>\n",
       "      <td>4.9671</td>\n",
       "      <td>2</td>\n",
       "      <td>242.0</td>\n",
       "      <td>17.8</td>\n",
       "      <td>392.83</td>\n",
       "      <td>4.03</td>\n",
       "      <td>34.7</td>\n",
       "    </tr>\n",
       "    <tr>\n",
       "      <th>3</th>\n",
       "      <td>0.03237</td>\n",
       "      <td>0.0</td>\n",
       "      <td>2.18</td>\n",
       "      <td>0</td>\n",
       "      <td>0.458</td>\n",
       "      <td>6.998</td>\n",
       "      <td>45.8</td>\n",
       "      <td>6.0622</td>\n",
       "      <td>3</td>\n",
       "      <td>222.0</td>\n",
       "      <td>18.7</td>\n",
       "      <td>394.63</td>\n",
       "      <td>2.94</td>\n",
       "      <td>33.4</td>\n",
       "    </tr>\n",
       "    <tr>\n",
       "      <th>4</th>\n",
       "      <td>0.06905</td>\n",
       "      <td>0.0</td>\n",
       "      <td>2.18</td>\n",
       "      <td>0</td>\n",
       "      <td>0.458</td>\n",
       "      <td>7.147</td>\n",
       "      <td>54.2</td>\n",
       "      <td>6.0622</td>\n",
       "      <td>3</td>\n",
       "      <td>222.0</td>\n",
       "      <td>18.7</td>\n",
       "      <td>396.90</td>\n",
       "      <td>5.33</td>\n",
       "      <td>36.2</td>\n",
       "    </tr>\n",
       "  </tbody>\n",
       "</table>\n",
       "</div>"
      ],
      "text/plain": [
       "      CRIM    ZN  INDUS  CHAS    NOX     RM   AGE     DIS  RAD    TAX  \\\n",
       "0  0.00632  18.0   2.31     0  0.538  6.575  65.2  4.0900    1  296.0   \n",
       "1  0.02731   0.0   7.07     0  0.469  6.421  78.9  4.9671    2  242.0   \n",
       "2  0.02729   0.0   7.07     0  0.469  7.185  61.1  4.9671    2  242.0   \n",
       "3  0.03237   0.0   2.18     0  0.458  6.998  45.8  6.0622    3  222.0   \n",
       "4  0.06905   0.0   2.18     0  0.458  7.147  54.2  6.0622    3  222.0   \n",
       "\n",
       "   PRTATIO       B  LSTAT  MEDV  \n",
       "0     15.3  396.90   4.98  24.0  \n",
       "1     17.8  396.90   9.14  21.6  \n",
       "2     17.8  392.83   4.03  34.7  \n",
       "3     18.7  394.63   2.94  33.4  \n",
       "4     18.7  396.90   5.33  36.2  "
      ]
     },
     "execution_count": 23,
     "metadata": {},
     "output_type": "execute_result"
    }
   ],
   "source": [
    "data.head()"
   ]
  },
  {
   "cell_type": "code",
   "execution_count": 36,
   "metadata": {},
   "outputs": [
    {
     "name": "stdout",
     "output_type": "stream",
     "text": [
      "      CRIM    ZN  INDUS  CHAS    NOX     RM   AGE     DIS  RAD    TAX  PRTATIO       B  LSTAT  MEDV\n",
      "0  0.00632  18.0   2.31     0  0.538  6.575  65.2  4.0900    1  296.0     15.3  396.90   4.98  24.0\n",
      "1  0.02731   0.0   7.07     0  0.469  6.421  78.9  4.9671    2  242.0     17.8  396.90   9.14  21.6\n",
      "2  0.02729   0.0   7.07     0  0.469  7.185  61.1  4.9671    2  242.0     17.8  392.83   4.03  34.7\n",
      "3  0.03237   0.0   2.18     0  0.458  6.998  45.8  6.0622    3  222.0     18.7  394.63   2.94  33.4\n",
      "4  0.06905   0.0   2.18     0  0.458  7.147  54.2  6.0622    3  222.0     18.7  396.90   5.33  36.2\n",
      "5  0.02985   0.0   2.18     0  0.458  6.430  58.7  6.0622    3  222.0     18.7  394.12   5.21  28.7\n",
      "6  0.08829  12.5   7.87     0  0.524  6.012  66.6  5.5605    5  311.0     15.2  395.60  12.43  22.9\n",
      "7  0.14455  12.5   7.87     0  0.524  6.172  96.1  5.9505    5  311.0     15.2  396.90  19.15  27.1\n"
     ]
    }
   ],
   "source": [
    "set_option('display.width', 120)  # 指定输出的宽度为120个字符，以确保将所有特征属性值显示在一行内\n",
    "print(data.head(8))"
   ]
  },
  {
   "cell_type": "code",
   "execution_count": 26,
   "metadata": {},
   "outputs": [
    {
     "data": {
      "text/plain": [
       "(506, 14)"
      ]
     },
     "execution_count": 26,
     "metadata": {},
     "output_type": "execute_result"
    }
   ],
   "source": [
    "data.shape"
   ]
  },
  {
   "cell_type": "code",
   "execution_count": 27,
   "metadata": {},
   "outputs": [
    {
     "data": {
      "text/plain": [
       "Index(['CRIM', 'ZN', 'INDUS', 'CHAS', 'NOX', 'RM', 'AGE', 'DIS', 'RAD', 'TAX',\n",
       "       'PRTATIO', 'B', 'LSTAT', 'MEDV'],\n",
       "      dtype='object')"
      ]
     },
     "execution_count": 27,
     "metadata": {},
     "output_type": "execute_result"
    }
   ],
   "source": [
    "data.keys()"
   ]
  },
  {
   "cell_type": "code",
   "execution_count": 29,
   "metadata": {},
   "outputs": [
    {
     "data": {
      "text/plain": [
       "CRIM       float64\n",
       "ZN         float64\n",
       "INDUS      float64\n",
       "CHAS         int64\n",
       "NOX        float64\n",
       "RM         float64\n",
       "AGE        float64\n",
       "DIS        float64\n",
       "RAD          int64\n",
       "TAX        float64\n",
       "PRTATIO    float64\n",
       "B          float64\n",
       "LSTAT      float64\n",
       "MEDV       float64\n",
       "dtype: object"
      ]
     },
     "execution_count": 29,
     "metadata": {},
     "output_type": "execute_result"
    }
   ],
   "source": [
    "data.dtypes"
   ]
  },
  {
   "cell_type": "code",
   "execution_count": 37,
   "metadata": {},
   "outputs": [
    {
     "data": {
      "text/html": [
       "<div>\n",
       "<style scoped>\n",
       "    .dataframe tbody tr th:only-of-type {\n",
       "        vertical-align: middle;\n",
       "    }\n",
       "\n",
       "    .dataframe tbody tr th {\n",
       "        vertical-align: top;\n",
       "    }\n",
       "\n",
       "    .dataframe thead th {\n",
       "        text-align: right;\n",
       "    }\n",
       "</style>\n",
       "<table border=\"1\" class=\"dataframe\">\n",
       "  <thead>\n",
       "    <tr style=\"text-align: right;\">\n",
       "      <th></th>\n",
       "      <th>CRIM</th>\n",
       "      <th>ZN</th>\n",
       "      <th>INDUS</th>\n",
       "      <th>CHAS</th>\n",
       "      <th>NOX</th>\n",
       "      <th>RM</th>\n",
       "      <th>AGE</th>\n",
       "      <th>DIS</th>\n",
       "      <th>RAD</th>\n",
       "      <th>TAX</th>\n",
       "      <th>PRTATIO</th>\n",
       "      <th>B</th>\n",
       "      <th>LSTAT</th>\n",
       "      <th>MEDV</th>\n",
       "    </tr>\n",
       "  </thead>\n",
       "  <tbody>\n",
       "    <tr>\n",
       "      <th>count</th>\n",
       "      <td>506.000000</td>\n",
       "      <td>506.000000</td>\n",
       "      <td>506.000000</td>\n",
       "      <td>506.000000</td>\n",
       "      <td>506.000000</td>\n",
       "      <td>506.000000</td>\n",
       "      <td>506.000000</td>\n",
       "      <td>506.000000</td>\n",
       "      <td>506.000000</td>\n",
       "      <td>506.000000</td>\n",
       "      <td>506.000000</td>\n",
       "      <td>506.000000</td>\n",
       "      <td>506.000000</td>\n",
       "      <td>506.000000</td>\n",
       "    </tr>\n",
       "    <tr>\n",
       "      <th>mean</th>\n",
       "      <td>3.613524</td>\n",
       "      <td>11.363636</td>\n",
       "      <td>11.136779</td>\n",
       "      <td>0.069170</td>\n",
       "      <td>0.554695</td>\n",
       "      <td>6.284634</td>\n",
       "      <td>68.574901</td>\n",
       "      <td>3.795043</td>\n",
       "      <td>9.549407</td>\n",
       "      <td>408.237154</td>\n",
       "      <td>18.455534</td>\n",
       "      <td>356.674032</td>\n",
       "      <td>12.653063</td>\n",
       "      <td>22.532806</td>\n",
       "    </tr>\n",
       "    <tr>\n",
       "      <th>std</th>\n",
       "      <td>8.601545</td>\n",
       "      <td>23.322453</td>\n",
       "      <td>6.860353</td>\n",
       "      <td>0.253994</td>\n",
       "      <td>0.115878</td>\n",
       "      <td>0.702617</td>\n",
       "      <td>28.148861</td>\n",
       "      <td>2.105710</td>\n",
       "      <td>8.707259</td>\n",
       "      <td>168.537116</td>\n",
       "      <td>2.164946</td>\n",
       "      <td>91.294864</td>\n",
       "      <td>7.141062</td>\n",
       "      <td>9.197104</td>\n",
       "    </tr>\n",
       "    <tr>\n",
       "      <th>min</th>\n",
       "      <td>0.006320</td>\n",
       "      <td>0.000000</td>\n",
       "      <td>0.460000</td>\n",
       "      <td>0.000000</td>\n",
       "      <td>0.385000</td>\n",
       "      <td>3.561000</td>\n",
       "      <td>2.900000</td>\n",
       "      <td>1.129600</td>\n",
       "      <td>1.000000</td>\n",
       "      <td>187.000000</td>\n",
       "      <td>12.600000</td>\n",
       "      <td>0.320000</td>\n",
       "      <td>1.730000</td>\n",
       "      <td>5.000000</td>\n",
       "    </tr>\n",
       "    <tr>\n",
       "      <th>25%</th>\n",
       "      <td>0.082045</td>\n",
       "      <td>0.000000</td>\n",
       "      <td>5.190000</td>\n",
       "      <td>0.000000</td>\n",
       "      <td>0.449000</td>\n",
       "      <td>5.885500</td>\n",
       "      <td>45.025000</td>\n",
       "      <td>2.100175</td>\n",
       "      <td>4.000000</td>\n",
       "      <td>279.000000</td>\n",
       "      <td>17.400000</td>\n",
       "      <td>375.377500</td>\n",
       "      <td>6.950000</td>\n",
       "      <td>17.025000</td>\n",
       "    </tr>\n",
       "    <tr>\n",
       "      <th>50%</th>\n",
       "      <td>0.256510</td>\n",
       "      <td>0.000000</td>\n",
       "      <td>9.690000</td>\n",
       "      <td>0.000000</td>\n",
       "      <td>0.538000</td>\n",
       "      <td>6.208500</td>\n",
       "      <td>77.500000</td>\n",
       "      <td>3.207450</td>\n",
       "      <td>5.000000</td>\n",
       "      <td>330.000000</td>\n",
       "      <td>19.050000</td>\n",
       "      <td>391.440000</td>\n",
       "      <td>11.360000</td>\n",
       "      <td>21.200000</td>\n",
       "    </tr>\n",
       "    <tr>\n",
       "      <th>75%</th>\n",
       "      <td>3.677082</td>\n",
       "      <td>12.500000</td>\n",
       "      <td>18.100000</td>\n",
       "      <td>0.000000</td>\n",
       "      <td>0.624000</td>\n",
       "      <td>6.623500</td>\n",
       "      <td>94.075000</td>\n",
       "      <td>5.188425</td>\n",
       "      <td>24.000000</td>\n",
       "      <td>666.000000</td>\n",
       "      <td>20.200000</td>\n",
       "      <td>396.225000</td>\n",
       "      <td>16.955000</td>\n",
       "      <td>25.000000</td>\n",
       "    </tr>\n",
       "    <tr>\n",
       "      <th>max</th>\n",
       "      <td>88.976200</td>\n",
       "      <td>100.000000</td>\n",
       "      <td>27.740000</td>\n",
       "      <td>1.000000</td>\n",
       "      <td>0.871000</td>\n",
       "      <td>8.780000</td>\n",
       "      <td>100.000000</td>\n",
       "      <td>12.126500</td>\n",
       "      <td>24.000000</td>\n",
       "      <td>711.000000</td>\n",
       "      <td>22.000000</td>\n",
       "      <td>396.900000</td>\n",
       "      <td>37.970000</td>\n",
       "      <td>50.000000</td>\n",
       "    </tr>\n",
       "  </tbody>\n",
       "</table>\n",
       "</div>"
      ],
      "text/plain": [
       "             CRIM          ZN       INDUS        CHAS         NOX          RM         AGE         DIS         RAD  \\\n",
       "count  506.000000  506.000000  506.000000  506.000000  506.000000  506.000000  506.000000  506.000000  506.000000   \n",
       "mean     3.613524   11.363636   11.136779    0.069170    0.554695    6.284634   68.574901    3.795043    9.549407   \n",
       "std      8.601545   23.322453    6.860353    0.253994    0.115878    0.702617   28.148861    2.105710    8.707259   \n",
       "min      0.006320    0.000000    0.460000    0.000000    0.385000    3.561000    2.900000    1.129600    1.000000   \n",
       "25%      0.082045    0.000000    5.190000    0.000000    0.449000    5.885500   45.025000    2.100175    4.000000   \n",
       "50%      0.256510    0.000000    9.690000    0.000000    0.538000    6.208500   77.500000    3.207450    5.000000   \n",
       "75%      3.677082   12.500000   18.100000    0.000000    0.624000    6.623500   94.075000    5.188425   24.000000   \n",
       "max     88.976200  100.000000   27.740000    1.000000    0.871000    8.780000  100.000000   12.126500   24.000000   \n",
       "\n",
       "              TAX     PRTATIO           B       LSTAT        MEDV  \n",
       "count  506.000000  506.000000  506.000000  506.000000  506.000000  \n",
       "mean   408.237154   18.455534  356.674032   12.653063   22.532806  \n",
       "std    168.537116    2.164946   91.294864    7.141062    9.197104  \n",
       "min    187.000000   12.600000    0.320000    1.730000    5.000000  \n",
       "25%    279.000000   17.400000  375.377500    6.950000   17.025000  \n",
       "50%    330.000000   19.050000  391.440000   11.360000   21.200000  \n",
       "75%    666.000000   20.200000  396.225000   16.955000   25.000000  \n",
       "max    711.000000   22.000000  396.900000   37.970000   50.000000  "
      ]
     },
     "execution_count": 37,
     "metadata": {},
     "output_type": "execute_result"
    }
   ],
   "source": [
    "data.describe() # 描述性统计信息中包含数据的均值、方差、最大值、最小值、中位值、四分位值"
   ]
  },
  {
   "cell_type": "code",
   "execution_count": 38,
   "metadata": {},
   "outputs": [
    {
     "data": {
      "text/plain": [
       "<bound method NDFrame.describe of          CRIM    ZN  INDUS  CHAS    NOX     RM    AGE     DIS  RAD    TAX  PRTATIO       B  LSTAT  MEDV\n",
       "0     0.00632  18.0   2.31     0  0.538  6.575   65.2  4.0900    1  296.0     15.3  396.90   4.98  24.0\n",
       "1     0.02731   0.0   7.07     0  0.469  6.421   78.9  4.9671    2  242.0     17.8  396.90   9.14  21.6\n",
       "2     0.02729   0.0   7.07     0  0.469  7.185   61.1  4.9671    2  242.0     17.8  392.83   4.03  34.7\n",
       "3     0.03237   0.0   2.18     0  0.458  6.998   45.8  6.0622    3  222.0     18.7  394.63   2.94  33.4\n",
       "4     0.06905   0.0   2.18     0  0.458  7.147   54.2  6.0622    3  222.0     18.7  396.90   5.33  36.2\n",
       "5     0.02985   0.0   2.18     0  0.458  6.430   58.7  6.0622    3  222.0     18.7  394.12   5.21  28.7\n",
       "6     0.08829  12.5   7.87     0  0.524  6.012   66.6  5.5605    5  311.0     15.2  395.60  12.43  22.9\n",
       "7     0.14455  12.5   7.87     0  0.524  6.172   96.1  5.9505    5  311.0     15.2  396.90  19.15  27.1\n",
       "8     0.21124  12.5   7.87     0  0.524  5.631  100.0  6.0821    5  311.0     15.2  386.63  29.93  16.5\n",
       "9     0.17004  12.5   7.87     0  0.524  6.004   85.9  6.5921    5  311.0     15.2  386.71  17.10  18.9\n",
       "10    0.22489  12.5   7.87     0  0.524  6.377   94.3  6.3467    5  311.0     15.2  392.52  20.45  15.0\n",
       "11    0.11747  12.5   7.87     0  0.524  6.009   82.9  6.2267    5  311.0     15.2  396.90  13.27  18.9\n",
       "12    0.09378  12.5   7.87     0  0.524  5.889   39.0  5.4509    5  311.0     15.2  390.50  15.71  21.7\n",
       "13    0.62976   0.0   8.14     0  0.538  5.949   61.8  4.7075    4  307.0     21.0  396.90   8.26  20.4\n",
       "14    0.63796   0.0   8.14     0  0.538  6.096   84.5  4.4619    4  307.0     21.0  380.02  10.26  18.2\n",
       "15    0.62739   0.0   8.14     0  0.538  5.834   56.5  4.4986    4  307.0     21.0  395.62   8.47  19.9\n",
       "16    1.05393   0.0   8.14     0  0.538  5.935   29.3  4.4986    4  307.0     21.0  386.85   6.58  23.1\n",
       "17    0.78420   0.0   8.14     0  0.538  5.990   81.7  4.2579    4  307.0     21.0  386.75  14.67  17.5\n",
       "18    0.80271   0.0   8.14     0  0.538  5.456   36.6  3.7965    4  307.0     21.0  288.99  11.69  20.2\n",
       "19    0.72580   0.0   8.14     0  0.538  5.727   69.5  3.7965    4  307.0     21.0  390.95  11.28  18.2\n",
       "20    1.25179   0.0   8.14     0  0.538  5.570   98.1  3.7979    4  307.0     21.0  376.57  21.02  13.6\n",
       "21    0.85204   0.0   8.14     0  0.538  5.965   89.2  4.0123    4  307.0     21.0  392.53  13.83  19.6\n",
       "22    1.23247   0.0   8.14     0  0.538  6.142   91.7  3.9769    4  307.0     21.0  396.90  18.72  15.2\n",
       "23    0.98843   0.0   8.14     0  0.538  5.813  100.0  4.0952    4  307.0     21.0  394.54  19.88  14.5\n",
       "24    0.75026   0.0   8.14     0  0.538  5.924   94.1  4.3996    4  307.0     21.0  394.33  16.30  15.6\n",
       "25    0.84054   0.0   8.14     0  0.538  5.599   85.7  4.4546    4  307.0     21.0  303.42  16.51  13.9\n",
       "26    0.67191   0.0   8.14     0  0.538  5.813   90.3  4.6820    4  307.0     21.0  376.88  14.81  16.6\n",
       "27    0.95577   0.0   8.14     0  0.538  6.047   88.8  4.4534    4  307.0     21.0  306.38  17.28  14.8\n",
       "28    0.77299   0.0   8.14     0  0.538  6.495   94.4  4.4547    4  307.0     21.0  387.94  12.80  18.4\n",
       "29    1.00245   0.0   8.14     0  0.538  6.674   87.3  4.2390    4  307.0     21.0  380.23  11.98  21.0\n",
       "..        ...   ...    ...   ...    ...    ...    ...     ...  ...    ...      ...     ...    ...   ...\n",
       "476   4.87141   0.0  18.10     0  0.614  6.484   93.6  2.3053   24  666.0     20.2  396.21  18.68  16.7\n",
       "477  15.02340   0.0  18.10     0  0.614  5.304   97.3  2.1007   24  666.0     20.2  349.48  24.91  12.0\n",
       "478  10.23300   0.0  18.10     0  0.614  6.185   96.7  2.1705   24  666.0     20.2  379.70  18.03  14.6\n",
       "479  14.33370   0.0  18.10     0  0.614  6.229   88.0  1.9512   24  666.0     20.2  383.32  13.11  21.4\n",
       "480   5.82401   0.0  18.10     0  0.532  6.242   64.7  3.4242   24  666.0     20.2  396.90  10.74  23.0\n",
       "481   5.70818   0.0  18.10     0  0.532  6.750   74.9  3.3317   24  666.0     20.2  393.07   7.74  23.7\n",
       "482   5.73116   0.0  18.10     0  0.532  7.061   77.0  3.4106   24  666.0     20.2  395.28   7.01  25.0\n",
       "483   2.81838   0.0  18.10     0  0.532  5.762   40.3  4.0983   24  666.0     20.2  392.92  10.42  21.8\n",
       "484   2.37857   0.0  18.10     0  0.583  5.871   41.9  3.7240   24  666.0     20.2  370.73  13.34  20.6\n",
       "485   3.67367   0.0  18.10     0  0.583  6.312   51.9  3.9917   24  666.0     20.2  388.62  10.58  21.2\n",
       "486   5.69175   0.0  18.10     0  0.583  6.114   79.8  3.5459   24  666.0     20.2  392.68  14.98  19.1\n",
       "487   4.83567   0.0  18.10     0  0.583  5.905   53.2  3.1523   24  666.0     20.2  388.22  11.45  20.6\n",
       "488   0.15086   0.0  27.74     0  0.609  5.454   92.7  1.8209    4  711.0     20.1  395.09  18.06  15.2\n",
       "489   0.18337   0.0  27.74     0  0.609  5.414   98.3  1.7554    4  711.0     20.1  344.05  23.97   7.0\n",
       "490   0.20746   0.0  27.74     0  0.609  5.093   98.0  1.8226    4  711.0     20.1  318.43  29.68   8.1\n",
       "491   0.10574   0.0  27.74     0  0.609  5.983   98.8  1.8681    4  711.0     20.1  390.11  18.07  13.6\n",
       "492   0.11132   0.0  27.74     0  0.609  5.983   83.5  2.1099    4  711.0     20.1  396.90  13.35  20.1\n",
       "493   0.17331   0.0   9.69     0  0.585  5.707   54.0  2.3817    6  391.0     19.2  396.90  12.01  21.8\n",
       "494   0.27957   0.0   9.69     0  0.585  5.926   42.6  2.3817    6  391.0     19.2  396.90  13.59  24.5\n",
       "495   0.17899   0.0   9.69     0  0.585  5.670   28.8  2.7986    6  391.0     19.2  393.29  17.60  23.1\n",
       "496   0.28960   0.0   9.69     0  0.585  5.390   72.9  2.7986    6  391.0     19.2  396.90  21.14  19.7\n",
       "497   0.26838   0.0   9.69     0  0.585  5.794   70.6  2.8927    6  391.0     19.2  396.90  14.10  18.3\n",
       "498   0.23912   0.0   9.69     0  0.585  6.019   65.3  2.4091    6  391.0     19.2  396.90  12.92  21.2\n",
       "499   0.17783   0.0   9.69     0  0.585  5.569   73.5  2.3999    6  391.0     19.2  395.77  15.10  17.5\n",
       "500   0.22438   0.0   9.69     0  0.585  6.027   79.7  2.4982    6  391.0     19.2  396.90  14.33  16.8\n",
       "501   0.06263   0.0  11.93     0  0.573  6.593   69.1  2.4786    1  273.0     21.0  391.99   9.67  22.4\n",
       "502   0.04527   0.0  11.93     0  0.573  6.120   76.7  2.2875    1  273.0     21.0  396.90   9.08  20.6\n",
       "503   0.06076   0.0  11.93     0  0.573  6.976   91.0  2.1675    1  273.0     21.0  396.90   5.64  23.9\n",
       "504   0.10959   0.0  11.93     0  0.573  6.794   89.3  2.3889    1  273.0     21.0  393.45   6.48  22.0\n",
       "505   0.04741   0.0  11.93     0  0.573  6.030   80.8  2.5050    1  273.0     21.0  396.90   7.88  11.9\n",
       "\n",
       "[506 rows x 14 columns]>"
      ]
     },
     "execution_count": 38,
     "metadata": {},
     "output_type": "execute_result"
    }
   ],
   "source": [
    "data.describe"
   ]
  },
  {
   "cell_type": "code",
   "execution_count": 39,
   "metadata": {},
   "outputs": [
    {
     "name": "stdout",
     "output_type": "stream",
     "text": [
      "         CRIM    ZN  INDUS      CHAS   NOX    RM   AGE   DIS       RAD   TAX  PRTATIO     B  LSTAT  MEDV\n",
      "CRIM     1.00 -0.20   0.41 -5.59e-02  0.42 -0.22  0.35 -0.38  6.26e-01  0.58     0.29 -0.39   0.46 -0.39\n",
      "ZN      -0.20  1.00  -0.53 -4.27e-02 -0.52  0.31 -0.57  0.66 -3.12e-01 -0.31    -0.39  0.18  -0.41  0.36\n",
      "INDUS    0.41 -0.53   1.00  6.29e-02  0.76 -0.39  0.64 -0.71  5.95e-01  0.72     0.38 -0.36   0.60 -0.48\n",
      "CHAS    -0.06 -0.04   0.06  1.00e+00  0.09  0.09  0.09 -0.10 -7.37e-03 -0.04    -0.12  0.05  -0.05  0.18\n",
      "NOX      0.42 -0.52   0.76  9.12e-02  1.00 -0.30  0.73 -0.77  6.11e-01  0.67     0.19 -0.38   0.59 -0.43\n",
      "RM      -0.22  0.31  -0.39  9.13e-02 -0.30  1.00 -0.24  0.21 -2.10e-01 -0.29    -0.36  0.13  -0.61  0.70\n",
      "AGE      0.35 -0.57   0.64  8.65e-02  0.73 -0.24  1.00 -0.75  4.56e-01  0.51     0.26 -0.27   0.60 -0.38\n",
      "DIS     -0.38  0.66  -0.71 -9.92e-02 -0.77  0.21 -0.75  1.00 -4.95e-01 -0.53    -0.23  0.29  -0.50  0.25\n",
      "RAD      0.63 -0.31   0.60 -7.37e-03  0.61 -0.21  0.46 -0.49  1.00e+00  0.91     0.46 -0.44   0.49 -0.38\n",
      "TAX      0.58 -0.31   0.72 -3.56e-02  0.67 -0.29  0.51 -0.53  9.10e-01  1.00     0.46 -0.44   0.54 -0.47\n",
      "PRTATIO  0.29 -0.39   0.38 -1.22e-01  0.19 -0.36  0.26 -0.23  4.65e-01  0.46     1.00 -0.18   0.37 -0.51\n",
      "B       -0.39  0.18  -0.36  4.88e-02 -0.38  0.13 -0.27  0.29 -4.44e-01 -0.44    -0.18  1.00  -0.37  0.33\n",
      "LSTAT    0.46 -0.41   0.60 -5.39e-02  0.59 -0.61  0.60 -0.50  4.89e-01  0.54     0.37 -0.37   1.00 -0.74\n",
      "MEDV    -0.39  0.36  -0.48  1.75e-01 -0.43  0.70 -0.38  0.25 -3.82e-01 -0.47    -0.51  0.33  -0.74  1.00\n"
     ]
    }
   ],
   "source": [
    "# 关联关系\n",
    "set_option('precision', 2)\n",
    "print(data.corr(method='pearson'))"
   ]
  },
  {
   "cell_type": "markdown",
   "metadata": {},
   "source": [
    "##  2) b) 数据可视化"
   ]
  },
  {
   "cell_type": "code",
   "execution_count": 58,
   "metadata": {},
   "outputs": [
    {
     "data": {
      "image/png": "[encoded data removed]",
      "text/plain": [
       "<Figure size 432x288 with 16 Axes>"
      ]
     },
     "metadata": {},
     "output_type": "display_data"
    }
   ],
   "source": [
    "# 数据可视化\n",
    "# 单一特征图表\n",
    "\n",
    "\n",
    "# 直方图\n",
    "data.hist(bins=30, sharex=False, sharey=False, xlabelsize=1, ylabelsize=1, facecolor='yellow')\n",
    "# bins 指定箱子的宽度，取正整数\n",
    "pyplot.show()"
   ]
  },
  {
   "cell_type": "code",
   "execution_count": 51,
   "metadata": {},
   "outputs": [
    {
     "data": {
      "image/png": "[encoded data removed]",
      "text/plain": [
       "<Figure size 432x288 with 16 Axes>"
      ]
     },
     "metadata": {},
     "output_type": "display_data"
    }
   ],
   "source": [
    "# 密度图\n",
    "data.plot(kind='density', subplots=True, layout=(4,4), sharex=False, fontsize=1)\n",
    "pyplot.show()"
   ]
  },
  {
   "cell_type": "code",
   "execution_count": 52,
   "metadata": {},
   "outputs": [
    {
     "data": {
      "image/png": "[encoded data removed]",
      "text/plain": [
       "<Figure size 432x288 with 16 Axes>"
      ]
     },
     "metadata": {},
     "output_type": "display_data"
    }
   ],
   "source": [
    "data.plot(kind='box', subplots=True, layout=(4,4), sharex=False, sharey=False, fontsize=8)\n",
    "pyplot.show()"
   ]
  },
  {
   "cell_type": "markdown",
   "metadata": {},
   "source": [
    "### 散点矩阵图"
   ]
  },
  {
   "cell_type": "code",
   "execution_count": 59,
   "metadata": {},
   "outputs": [
    {
     "data": {
      "image/png": "[encoded data removed]",
      "text/plain": [
       "<Figure size 432x288 with 196 Axes>"
      ]
     },
     "metadata": {},
     "output_type": "display_data"
    }
   ],
   "source": [
    "# 多重数据图表\n",
    "# 接下来利用多重数据图表来查看不同数据特征之间的相互影响关系\n",
    "\n",
    "\n",
    "# 散点矩阵图\n",
    "scatter_matrix(data)\n",
    "pyplot.show()"
   ]
  },
  {
   "cell_type": "markdown",
   "metadata": {},
   "source": [
    "### 相关矩阵图"
   ]
  },
  {
   "cell_type": "code",
   "execution_count": 60,
   "metadata": {},
   "outputs": [
    {
     "data": {
      "image/png": "[encoded data removed]",
      "text/plain": [
       "<Figure size 432x288 with 2 Axes>"
      ]
     },
     "metadata": {},
     "output_type": "display_data"
    }
   ],
   "source": [
    "# 相关矩阵图\n",
    "fig = pyplot.figure()\n",
    "ax = fig.add_subplot(111)\n",
    "cax = ax.matshow(data.corr(), vmin=-1, vmax=1, interpolation='none')\n",
    "fig.colorbar(cax)\n",
    "ticks = np.arange(0, 14, 1)\n",
    "ax.set_xticks(ticks)\n",
    "ax.set_yticks(ticks)\n",
    "ax.set_xticklabels(names)\n",
    "ax.set_yticklabels(names)\n",
    "pyplot.show()"
   ]
  },
  {
   "cell_type": "markdown",
   "metadata": {},
   "source": [
    "## 4) a) 分离数据集"
   ]
  },
  {
   "cell_type": "code",
   "execution_count": 6,
   "metadata": {},
   "outputs": [
    {
     "data": {
      "text/plain": [
       "(404,)"
      ]
     },
     "execution_count": 6,
     "metadata": {},
     "output_type": "execute_result"
    }
   ],
   "source": [
    "# 分离数据集\n",
    "\n",
    "array = data.values\n",
    "X = array[:, 0:13]\n",
    "Y = array[:, 13]\n",
    "validation_size = 0.2  # 分离出20%的数据作为评估数据集，80%的数据作为训练数据集\n",
    "seed = 7  # 随机数的种子\n",
    "X_train, X_validation, Y_train, Y_validation = train_test_split(X, Y,test_size=validation_size, random_state=seed)\n",
    "X_train.shape   # (404,13) 的array\n",
    "Y_train.shape   # (404,)"
   ]
  },
  {
   "cell_type": "markdown",
   "metadata": {},
   "source": [
    "## 4) b) 定义模型评估标准"
   ]
  },
  {
   "cell_type": "code",
   "execution_count": 8,
   "metadata": {},
   "outputs": [],
   "source": [
    "# 评估算法 —— 评估标准\n",
    "# 由于部分数据的线性分布，线性回归算法和弹性网络回归算法对解决问题可能比较有效。\n",
    "# 由于数据的离散化，通过决策树算法或支持向量机算法也许可以生成高准确度的模型\n",
    "\n",
    "num_folds = 10  # 采用10折交叉验证来分离数据\n",
    "seed = 7\n",
    "scoring = 'neg_mean_squared_error' # 通过均方误差来比较算法的准确度。均方误差越趋近于0，算法准确度越高"
   ]
  },
  {
   "cell_type": "markdown",
   "metadata": {},
   "source": [
    "## 4) c) 算法评估 比较"
   ]
  },
  {
   "cell_type": "code",
   "execution_count": 9,
   "metadata": {},
   "outputs": [],
   "source": [
    "# 对原始数据不做任何处理，对算法进行一个评估，形成一个算法的评估基准baseline。\n",
    "# 这个基准值是对  后续算法改善  优劣比较的基准值。\n",
    "# 我们选择三个线性算法和三个非线性算法来进行比较。\n",
    "\n",
    "#   线性算法： 线性回归（LR）、套索回归（LASSO）和弹性网络回归（EN）。 \n",
    "# 非线性算法：分类与回归树（CART）、支持向量机（SVM）和K近邻算法（KNN）。\n",
    "\n",
    "\n",
    "# 评估算法 - baseline\n",
    "models = {}\n",
    "models['LR'] = LinearRegression()\n",
    "models['LASSO'] = Lasso()\n",
    "models['EN'] = ElasticNet()\n",
    "models['KNN']  = KNeighborsRegressor()\n",
    "models['CART'] = DecisionTreeRegressor()\n",
    "models['SVM'] = SVR()"
   ]
  },
  {
   "cell_type": "code",
   "execution_count": 10,
   "metadata": {},
   "outputs": [
    {
     "name": "stdout",
     "output_type": "stream",
     "text": [
      "    LR: -21.379856 (9.414264)\n",
      " LASSO: -26.423561 (11.651110)\n",
      "    EN: -27.502259 (12.305022)\n",
      "   KNN: -41.896488 (13.901688)\n",
      "  CART: -22.695635 (9.566845)\n",
      "   SVM: -85.518342 (31.994798)\n"
     ]
    }
   ],
   "source": [
    "# 评估算法\n",
    "results = []\n",
    "for key in models:\n",
    "    # K折交叉验证：sklearn.model_selection.KFold(n_splits=3, shuffle=False, random_state=None)\n",
    "    # 思路：将训练/测试数据集划分n_splits个互斥子集，每次用其中一个子集当作验证集，剩下的n_splits-1个作为训练集，\n",
    "    # 进行n_splits次训练和测试，得到n_splits个结果    \n",
    "    kfold = KFold(n_splits=num_folds, random_state=seed)\n",
    "    \n",
    "    # Cross Validation 交叉验证  cross_val_score  得分[0,1]\n",
    "    cv_result = cross_val_score(models[key], X_train, Y_train, cv=kfold, scoring=scoring)\n",
    "    results.append(cv_result)\n",
    "    print('%6s: %f (%f)' % (key, cv_result.mean(), cv_result.std()))\n",
    "    # print(cv_result.shape) # (10,) 每种算法返回10个结果 cv_result\n",
    "    # print(results)"
   ]
  },
  {
   "cell_type": "code",
   "execution_count": 11,
   "metadata": {},
   "outputs": [
    {
     "data": {
      "image/png": "[encoded data removed]",
      "text/plain": [
       "<Figure size 432x288 with 1 Axes>"
      ]
     },
     "metadata": {},
     "output_type": "display_data"
    }
   ],
   "source": [
    "#评估算法——箱线图 上面是10折交叉验证的均值方差，下面是所有10个结果画成的箱图\n",
    "\n",
    "fig = pyplot.figure()  # 子图\n",
    "fig.suptitle('Algorithm Comparison')\n",
    "ax = fig.add_subplot(111) # 返回Axes实例，三个参数分别为子图总行数、总列数、位置\n",
    "pyplot.boxplot(results)\n",
    "ax.set_xticklabels(models.keys()) # 设置x轴\n",
    "pyplot.show()"
   ]
  },
  {
   "cell_type": "markdown",
   "metadata": {},
   "source": [
    "从图中可以看到，线性算法的分布比较类似，并且K近邻算法的结果分布非常紧凑。"
   ]
  },
  {
   "cell_type": "markdown",
   "metadata": {},
   "source": [
    "## 不同的数据度量单位，也许是K近邻算法和支持向量机算法表现不佳的主要原因。\n",
    "\n",
    "## 下面将对数据进行  正态化处理，再次比较算法的结果。"
   ]
  },
  {
   "cell_type": "markdown",
   "metadata": {},
   "source": [
    "## 评估算法"
   ]
  },
  {
   "cell_type": "code",
   "execution_count": 97,
   "metadata": {},
   "outputs": [
    {
     "name": "stdout",
     "output_type": "stream",
     "text": [
      "{'ScalerLR': Pipeline(memory=None,\n",
      "     steps=[('Scaler', StandardScaler(copy=True, with_mean=True, with_std=True)), ('LR', LinearRegression(copy_X=True, fit_intercept=True, n_jobs=1, normalize=False))]), 'ScalerLASSO': Pipeline(memory=None,\n",
      "     steps=[('Scaler', StandardScaler(copy=True, with_mean=True, with_std=True)), ('LASSO', Lasso(alpha=1.0, copy_X=True, fit_intercept=True, max_iter=1000,\n",
      "   normalize=False, positive=False, precompute=False, random_state=None,\n",
      "   selection='cyclic', tol=0.0001, warm_start=False))]), 'ScalerEN': Pipeline(memory=None,\n",
      "     steps=[('Scaler', StandardScaler(copy=True, with_mean=True, with_std=True)), ('EN', ElasticNet(alpha=1.0, copy_X=True, fit_intercept=True, l1_ratio=0.5,\n",
      "      max_iter=1000, normalize=False, positive=False, precompute=False,\n",
      "      random_state=None, selection='cyclic', tol=0.0001, warm_start=False))]), 'ScalerKNN': Pipeline(memory=None,\n",
      "     steps=[('Scaler', StandardScaler(copy=True, with_mean=True, with_std=True)), ('KNN', KNeighborsRegressor(algorithm='auto', leaf_size=30, metric='minkowski',\n",
      "          metric_params=None, n_jobs=1, n_neighbors=5, p=2,\n",
      "          weights='uniform'))]), 'ScalerCART': Pipeline(memory=None,\n",
      "     steps=[('Scaler', StandardScaler(copy=True, with_mean=True, with_std=True)), ('CART', DecisionTreeRegressor(criterion='mse', max_depth=None, max_features=None,\n",
      "           max_leaf_nodes=None, min_impurity_decrease=0.0,\n",
      "           min_impurity_split=None, min_samples_leaf=1,\n",
      "           min_samples_split=2, min_weight_fraction_leaf=0.0,\n",
      "           presort=False, random_state=None, splitter='best'))]), 'ScalerSVM': Pipeline(memory=None,\n",
      "     steps=[('Scaler', StandardScaler(copy=True, with_mean=True, with_std=True)), ('SVM', SVR(C=1.0, cache_size=200, coef0=0.0, degree=3, epsilon=0.1, gamma='auto',\n",
      "  kernel='rbf', max_iter=-1, shrinking=True, tol=0.001, verbose=False))])}\n",
      "   ScalerLR: -21.379856 (9.414264)\n",
      "ScalerLASSO: -26.607314 (8.978761)\n",
      "   ScalerEN: -27.932372 (10.587490)\n",
      "  ScalerKNN: -20.107620 (12.376949)\n",
      " ScalerCART: -24.648843 (8.169448)\n",
      "  ScalerSVM: -29.633086 (17.009186)\n"
     ]
    }
   ],
   "source": [
    "# 评估算法——正态化数据\n",
    "# Pipeline(memory=None,\n",
    "#        steps=[('anova', SelectKBest(...)),\n",
    "#               ('svc', SVC(...))])\n",
    "#  Pipeline对象接受二元tuple构成的list，\n",
    "# 每一个二元 tuple 中的第一个元素为 arbitrary identifier string，我们用以获取（access）Pipeline object 中的 \n",
    "# individual elements，\n",
    "# 二元 tuple 中的第二个元素是 scikit-learn与之相适配的transformer 或者 estimator。\n",
    "\n",
    "# Pipeline中的步骤可能有：\n",
    "# 特征标准化是需要的，可作为第一个环节\n",
    "# 既然是分类器，classifier也是少不了的，自然是最后一个环节\n",
    "# 中间可加上比如...\n",
    "\n",
    "pipelines = {}\n",
    "pipelines['ScalerLR'] = Pipeline([('Scaler', StandardScaler()), ('LR', LinearRegression())])\n",
    "pipelines['ScalerLASSO'] = Pipeline([('Scaler', StandardScaler()), ('LASSO', Lasso())])\n",
    "pipelines['ScalerEN'] = Pipeline([('Scaler', StandardScaler()), ('EN', ElasticNet())])\n",
    "pipelines['ScalerKNN'] = Pipeline([('Scaler', StandardScaler()), ('KNN', KNeighborsRegressor())])\n",
    "pipelines['ScalerCART'] = Pipeline([('Scaler', StandardScaler()), ('CART', DecisionTreeRegressor())])\n",
    "pipelines['ScalerSVM'] = Pipeline([('Scaler', StandardScaler()), ('SVM', SVR())])\n",
    "print(pipelines) # Pipeline返回\n",
    "\n",
    "results = []\n",
    "for key in pipelines:\n",
    "    kfold = KFold(n_splits=num_folds, random_state=seed)\n",
    "    cv_result = cross_val_score(pipelines[key], X_train, Y_train, cv=kfold, scoring=scoring)\n",
    "    results.append(cv_result)\n",
    "    print('%11s: %f (%f)' % (key, cv_result.mean(), cv_result.std()))"
   ]
  },
  {
   "cell_type": "code",
   "execution_count": 75,
   "metadata": {},
   "outputs": [
    {
     "data": {
      "image/png": "[encoded data removed]",
      "text/plain": [
       "<Figure size 432x288 with 1 Axes>"
      ]
     },
     "metadata": {},
     "output_type": "display_data"
    }
   ],
   "source": [
    "#评估算法——箱线图  箱线图 上面是10折交叉验证的均值方差，下面是所有10个结果画成的箱图\n",
    "fig = pyplot.figure()\n",
    "fig.suptitle('Algorithm Comparison')\n",
    "ax = fig.add_subplot(111)\n",
    "pyplot.boxplot(results)\n",
    "ax.set_xticklabels(models.keys())\n",
    "pyplot.show()"
   ]
  },
  {
   "cell_type": "markdown",
   "metadata": {},
   "source": [
    "# 优化模型"
   ]
  },
  {
   "cell_type": "markdown",
   "metadata": {},
   "source": [
    "## 调参"
   ]
  },
  {
   "cell_type": "code",
   "execution_count": 18,
   "metadata": {
    "code_folding": []
   },
   "outputs": [
    {
     "name": "stdout",
     "output_type": "stream",
     "text": [
      "GridSearchCV(cv=KFold(n_splits=10, random_state=7, shuffle=False),\n",
      "       error_score='raise',\n",
      "       estimator=KNeighborsRegressor(algorithm='auto', leaf_size=30, metric='minkowski',\n",
      "          metric_params=None, n_jobs=1, n_neighbors=5, p=2,\n",
      "          weights='uniform'),\n",
      "       fit_params=None, iid=True, n_jobs=1,\n",
      "       param_grid={'n_neighbors': [1, 3, 5, 7, 9, 11, 13, 15, 17, 19, 21]},\n",
      "       pre_dispatch='2*n_jobs', refit=True, return_train_score='warn',\n",
      "       scoring='neg_mean_squared_error', verbose=0)\n",
      "最优：-18.1721369637 使用{'n_neighbors': 3}\n",
      "{'mean_fit_time': array([ 0.00110025,  0.00079992,  0.00040009,  0.00070002,  0.00090001,\n",
      "        0.00099845,  0.00069947,  0.00089912,  0.00059988,  0.00069916,\n",
      "        0.0004997 ]), 'std_fit_time': array([ 0.00053917,  0.00060047,  0.00049001,  0.00045827,  0.00030001,\n",
      "        0.00044537,  0.00045791,  0.00029971,  0.0004898 ,  0.00045771,\n",
      "        0.0004997 ]), 'mean_score_time': array([ 0.0019994 ,  0.00119898,  0.0011986 ,  0.00139873,  0.00259824,\n",
      "        0.00139992,  0.00129917,  0.00129926,  0.00139923,  0.00119927,\n",
      "        0.00139854]), 'std_score_time': array([ 0.00044912,  0.00039948,  0.0003989 ,  0.0004898 ,  0.00168445,\n",
      "        0.00049067,  0.00045777,  0.00045729,  0.00048958,  0.00039928,\n",
      "        0.00048942]), 'param_n_neighbors': masked_array(data = [1 3 5 7 9 11 13 15 17 19 21],\n",
      "             mask = [False False False False False False False False False False False],\n",
      "       fill_value = ?)\n",
      ", 'params': [{'n_neighbors': 1}, {'n_neighbors': 3}, {'n_neighbors': 5}, {'n_neighbors': 7}, {'n_neighbors': 9}, {'n_neighbors': 11}, {'n_neighbors': 13}, {'n_neighbors': 15}, {'n_neighbors': 17}, {'n_neighbors': 19}, {'n_neighbors': 21}], 'split0_test_score': array([ -9.45414634,  -6.77363144,  -7.59979512,  -8.88562967,\n",
      "        -7.71774767,  -8.37567627,  -9.26275653, -10.57145691,\n",
      "       -11.03084227, -11.00315249, -10.38657486]), 'split1_test_score': array([-19.19463415, -16.53116531, -21.67962927, -19.2452663 ,\n",
      "       -18.79735923, -16.56787341, -16.54970559, -16.17777995,\n",
      "       -17.62933243, -18.892437  , -19.64178696]), 'split2_test_score': array([-55.4004878 , -53.51219512, -52.29340488, -54.03601294,\n",
      "       -51.91782294, -52.33891554, -53.90356906, -52.85772791,\n",
      "       -53.58452781, -53.18935477, -55.22344727]), 'split3_test_score': array([-12.39463415, -21.00479675, -26.17108293, -24.7557989 ,\n",
      "       -22.53135501, -25.1780125 , -25.99869534, -26.84544065,\n",
      "       -29.23538189, -29.54720424, -28.38148996]), 'split4_test_score': array([-14.266     , -13.34075   , -15.43363   , -14.37328571,\n",
      "       -15.16407407, -16.22127479, -16.85160503, -19.09312556,\n",
      "       -21.52448702, -23.19383934, -23.49596315]), 'split5_test_score': array([-10.3665    , -14.67366667, -20.76347   , -24.12086735,\n",
      "       -23.71760494, -23.65689669, -23.24300444, -23.77942778,\n",
      "       -23.61674827, -26.90940374, -27.83761961]), 'split6_test_score': array([-21.993     , -17.21883333, -18.99422   , -18.3127449 ,\n",
      "       -19.38682716, -20.95741322, -18.78862574, -17.97907778,\n",
      "       -19.65442042, -21.11710873, -22.64375794]), 'split7_test_score': array([ -7.80575   ,  -8.50119444, -10.92403   , -12.67627041,\n",
      "       -13.28576235, -14.30482025, -14.06153846, -13.77404556,\n",
      "       -14.47092474, -15.18020914, -15.56794785]), 'split8_test_score': array([-41.008     , -22.39908333, -18.05431   , -18.63777551,\n",
      "       -19.37001235, -19.81797107, -19.48788905, -20.99011222,\n",
      "       -23.14071367, -25.14683449, -26.61354932]), 'split9_test_score': array([ -9.81325   ,  -7.13772222,  -8.71758   , -10.09931633,\n",
      "       -11.30679012, -12.21259711, -12.84300888, -13.00023222,\n",
      "       -13.50399481, -14.11056925, -13.41678798]), 'mean_test_score': array([-20.20866337, -18.17213696, -20.13116337, -20.57584512,\n",
      "       -20.36826366, -21.00920424, -21.15180854, -21.55739967,\n",
      "       -22.78993816, -23.87187296, -24.36136212]), 'std_test_score': array([ 15.02965157,  12.95056994,  12.20369693,  12.34588632,\n",
      "        11.62173792,  11.61001222,  11.94331789,  11.53633852,\n",
      "        11.56686064,  11.34038866,  11.91478571]), 'rank_test_score': array([ 3,  1,  2,  5,  4,  6,  7,  8,  9, 10, 11]), 'split0_train_score': array([ -0.        ,  -8.88581879, -13.28653333, -16.65609265,\n",
      "       -16.70877393, -17.93518703, -19.34657229, -19.4351274 ,\n",
      "       -20.89932788, -21.71663904, -22.8210925 ]), 'split1_train_score': array([ -0.        ,  -9.31153352, -13.39114601, -15.37624726,\n",
      "       -16.68993708, -17.66265055, -18.57282475, -19.72672788,\n",
      "       -20.79297664, -21.49929474, -22.253972  ]), 'split2_train_score': array([ -0.        ,  -8.03628405, -10.99388099, -13.36185641,\n",
      "       -14.67843247, -15.6027489 , -16.02052782, -16.9757266 ,\n",
      "       -18.02334725, -19.04422281, -19.75357546]), 'split3_train_score': array([ -0.        ,  -7.41995409, -12.04358567, -15.37405914,\n",
      "       -16.2689865 , -17.25018942, -17.36007172, -18.03957319,\n",
      "       -19.23169455, -20.23620361, -21.18122224]), 'split4_train_score': array([ -0.        ,  -8.00721001, -12.91770659, -15.97281678,\n",
      "       -16.79116741, -17.89629825, -18.69557839, -19.50908987,\n",
      "       -20.12034364, -20.91100537, -21.60973655]), 'split5_train_score': array([ -0.        ,  -9.2477381 , -13.34391099, -15.48070195,\n",
      "       -16.52095883, -18.04642358, -18.33692226, -19.2799359 ,\n",
      "       -20.20471225, -21.30467619, -22.21808103]), 'split6_train_score': array([ -0.        ,  -9.16475275, -13.08778462, -16.14669377,\n",
      "       -17.00879833, -18.39658977, -18.85830337, -19.61928242,\n",
      "       -20.78303339, -21.82105073, -22.5583613 ]), 'split7_train_score': array([ -0.        ,  -9.36897131, -13.38727143, -16.55973593,\n",
      "       -17.33030152, -18.37566933, -19.14157309, -19.72191893,\n",
      "       -20.56822094, -21.55235556, -22.67402924]), 'split8_train_score': array([ -0.        ,  -7.42261294, -12.43337473, -15.92136802,\n",
      "       -16.94383428, -17.81258015, -18.82138175, -19.95392442,\n",
      "       -21.1759007 , -22.3541243 , -23.00174254]), 'split9_train_score': array([ -0.        ,  -9.72328144, -13.97071868, -16.89334828,\n",
      "       -17.78831163, -18.72537485, -19.46620619, -19.86194921,\n",
      "       -20.56150681, -21.65144607, -22.70422759]), 'mean_train_score': array([  0.        ,  -8.6588157 , -12.8855913 , -15.77429202,\n",
      "       -16.6729502 , -17.77037118, -18.46199616, -19.21232558,\n",
      "       -20.2361064 , -21.20910184, -22.07760405]), 'std_train_score': array([ 0.        ,  0.81196626,  0.81175958,  0.95242714,  0.77731913,\n",
      "        0.8229432 ,  0.98977003,  0.90453815,  0.89822202,  0.89844774,\n",
      "        0.94131096])}\n",
      "<zip object at 0x0000026DBA34D508>\n",
      "-20.208663 (15.029652) with {'n_neighbors': 1}\n",
      "-18.172137 (12.950570) with {'n_neighbors': 3}\n",
      "-20.131163 (12.203697) with {'n_neighbors': 5}\n",
      "-20.575845 (12.345886) with {'n_neighbors': 7}\n",
      "-20.368264 (11.621738) with {'n_neighbors': 9}\n",
      "-21.009204 (11.610012) with {'n_neighbors': 11}\n",
      "-21.151809 (11.943318) with {'n_neighbors': 13}\n",
      "-21.557400 (11.536339) with {'n_neighbors': 15}\n",
      "-22.789938 (11.566861) with {'n_neighbors': 17}\n",
      "-23.871873 (11.340389) with {'n_neighbors': 19}\n",
      "-24.361362 (11.914786) with {'n_neighbors': 21}\n"
     ]
    }
   ],
   "source": [
    "# 网格搜索算法  调参——KNN     \n",
    "\n",
    "# fit  transform\n",
    "scaler = StandardScaler().fit(X_train)\n",
    "rescaledX = scaler.transform(X_train)\n",
    "\n",
    "param_grid = {'n_neighbors': [1, 3, 5, 7, 9, 11, 13, 15, 17, 19, 21]}\n",
    "model = KNeighborsRegressor()\n",
    "kfold = KFold(n_splits=num_folds, random_state=seed)\n",
    "\n",
    "# 网格搜索算法\n",
    "grid = GridSearchCV(estimator=model, param_grid=param_grid, scoring=scoring, cv=kfold)\n",
    "grid_result = grid.fit(X=rescaledX, y=Y_train)\n",
    "print(grid_result)\n",
    "print('最优：%s 使用%s' % (grid_result.best_score_, grid_result.best_params_))\n",
    "\n",
    "print(grid_result.cv_results_)\n",
    "cv_results = zip(grid_result.cv_results_['mean_test_score'],grid_result.cv_results_['std_test_score'],grid_result.cv_results_['params'])\n",
    "print(cv_results)\n",
    "\n",
    "for mean, std, param in cv_results:\n",
    "    print('%f (%f) with %r' % (mean, std, param))"
   ]
  },
  {
   "cell_type": "markdown",
   "metadata": {},
   "source": [
    "最优结果——K近邻算法的默认参数近邻个数（n_neighbors）是3"
   ]
  },
  {
   "cell_type": "markdown",
   "metadata": {},
   "source": [
    "## 集成算法"
   ]
  },
  {
   "cell_type": "code",
   "execution_count": 14,
   "metadata": {},
   "outputs": [
    {
     "name": "stdout",
     "output_type": "stream",
     "text": [
      "    ScaledAB: -14.729143 (6.315653)\n",
      "ScaledAB-KNN: -15.902224 (10.378037)\n",
      " ScaledAB-LR: -24.575570 (10.124618)\n",
      "   ScaledRFR: -12.213231 (6.247711)\n",
      "   ScaledETR: -11.077000 (4.710833)\n",
      "   ScaledGBR: -10.269140 (4.530608)\n"
     ]
    }
   ],
   "source": [
    "# 集成算法\n",
    "# 除调参之外，提高模型准确度的方法是使用集成算法。\n",
    "# 下面会对表现比较好的线性回归、K近邻、分类与回归树算法进行集成，来看看算法能否提高。\n",
    "\n",
    "# 装袋算法：随机森林（RF）和极端随机树（ET）。 \n",
    "# 提升算法：AdaBoost（AB）和随机梯度上升（GBM）。\n",
    "\n",
    "#依然采用和前面同样的评估框架和正态化之后的数据来分析相关的算法。代码如下：\n",
    "\n",
    "\n",
    "ensembles = {}\n",
    "ensembles['ScaledAB'] = Pipeline([('Scaler',StandardScaler()), ('AB', AdaBoostRegressor())])\n",
    "ensembles['ScaledAB-KNN'] = Pipeline([('Scaler', StandardScaler()), ('ABKNN', AdaBoostRegressor(base_estimator= KNeighborsRegressor(n_neighbors=3)))])\n",
    "ensembles['ScaledAB-LR'] = Pipeline([('Scaler', StandardScaler()), ('ABLR',AdaBoostRegressor(LinearRegression()))])\n",
    "ensembles['ScaledRFR'] = Pipeline([('Scaler', StandardScaler()), ('RFR', RandomForestRegressor())])\n",
    "ensembles['ScaledETR'] = Pipeline([('Scaler', StandardScaler()), ('ETR', ExtraTreesRegressor())])\n",
    "ensembles['ScaledGBR'] = Pipeline([('Scaler', StandardScaler()), ('RBR', GradientBoostingRegressor())])\n",
    "\n",
    "results = []\n",
    "for key in ensembles:\n",
    "    kfold = KFold(n_splits=num_folds, random_state=seed)\n",
    "    cv_result = cross_val_score(ensembles[key], X_train, Y_train, cv=kfold, scoring=scoring)\n",
    "    results.append(cv_result)\n",
    "    print('%12s: %f (%f)' % (key, cv_result.mean(), cv_result.std()))"
   ]
  },
  {
   "cell_type": "code",
   "execution_count": 79,
   "metadata": {
    "scrolled": true
   },
   "outputs": [
    {
     "data": {
      "image/png": "[encoded data removed]",
      "text/plain": [
       "<Figure size 432x288 with 1 Axes>"
      ]
     },
     "metadata": {},
     "output_type": "display_data"
    }
   ],
   "source": [
    "# 集成算法——集成算法在10折交叉验证中均方误差的分布状况\n",
    "# 箱线图   上面是10折交叉验证的均值方差(最终结果)，下面是所有10个结果画成的箱图（每个具体的分布）\n",
    "fig = pyplot.figure()\n",
    "fig.suptitle('Algorithm Comparison')\n",
    "ax = fig.add_subplot(111)\n",
    "pyplot.boxplot(results)\n",
    "ax.set_xticklabels(ensembles.keys())\n",
    "pyplot.show()"
   ]
  },
  {
   "cell_type": "code",
   "execution_count": 80,
   "metadata": {},
   "outputs": [
    {
     "name": "stdout",
     "output_type": "stream",
     "text": [
      "最优：-9.24928559386 使用{'n_estimators': 800}\n",
      "最优：-9.20539812871 使用{'n_estimators': 50}\n"
     ]
    }
   ],
   "source": [
    "# 下面对随机梯度上升（GBM）和极端随机树（ET）算法进行调参，再次比较这两个算法模型的准确度，来确定最终的算法模型\n",
    "\n",
    "# 集成算法GBM——调参  \n",
    "\n",
    "# fit  transform\n",
    "caler = StandardScaler().fit(X_train)\n",
    "rescaledX = scaler.transform(X_train)\n",
    "\n",
    "param_grid = {'n_estimators': [10, 50, 100, 200, 300, 400, 500, 600, 700, 800, 900]}\n",
    "model = GradientBoostingRegressor()\n",
    "kfold = KFold(n_splits=num_folds, random_state=seed)\n",
    "grid = GridSearchCV(estimator=model, param_grid=param_grid, scoring=scoring, cv=kfold)\n",
    "\n",
    "grid_result = grid.fit(X=rescaledX, y=Y_train)\n",
    "print('最优：%s 使用%s' % (grid_result.best_score_, grid_result.best_params_))\n",
    "\n",
    "\n",
    "# 集成算法ET——调参\n",
    "\n",
    "# fit  transform\n",
    "scaler = StandardScaler().fit(X_train)\n",
    "rescaledX = scaler.transform(X_train)\n",
    "\n",
    "param_grid = {'n_estimators': [5, 10, 20, 30, 40, 50, 60, 70, 80, 90, 100]}\n",
    "model = ExtraTreesRegressor()\n",
    "kfold = KFold(n_splits=num_folds, random_state=seed)\n",
    "grid = GridSearchCV(estimator=model, param_grid=param_grid, scoring=scoring, cv=kfold)\n",
    "\n",
    "grid_result = grid.fit(X=rescaledX, y=Y_train)\n",
    "print('最优：%s 使用%s' % (grid_result.best_score_, grid_result.best_params_))\n"
   ]
  },
  {
   "cell_type": "markdown",
   "metadata": {},
   "source": [
    "## 6) 结果部署"
   ]
  },
  {
   "cell_type": "code",
   "execution_count": 16,
   "metadata": {
    "code_folding": []
   },
   "outputs": [
    {
     "data": {
      "text/plain": [
       "ExtraTreesRegressor(bootstrap=False, criterion='mse', max_depth=None,\n",
       "          max_features='auto', max_leaf_nodes=None,\n",
       "          min_impurity_decrease=0.0, min_impurity_split=None,\n",
       "          min_samples_leaf=1, min_samples_split=2,\n",
       "          min_weight_fraction_leaf=0.0, n_estimators=80, n_jobs=1,\n",
       "          oob_score=False, random_state=None, verbose=0, warm_start=False)"
      ]
     },
     "execution_count": 16,
     "metadata": {},
     "output_type": "execute_result"
    }
   ],
   "source": [
    "# 确定最终模型\n",
    "# 我们已经确定了使用极端随机树（ET）算法来生成模型，下面就对该算法进行训练和生成模型，并计算模型的准确度。\n",
    "\n",
    "#训练模型\n",
    "caler = StandardScaler().fit(X_train)\n",
    "rescaledX = scaler.transform(X_train)\n",
    "gbr = ExtraTreesRegressor(n_estimators=80)\n",
    "gbr.fit(X=rescaledX, y=Y_train)"
   ]
  },
  {
   "cell_type": "code",
   "execution_count": 17,
   "metadata": {},
   "outputs": [
    {
     "name": "stdout",
     "output_type": "stream",
     "text": [
      "13.1892927543\n"
     ]
    }
   ],
   "source": [
    "# 评估算法模型\n",
    "rescaledX_validation = scaler.transform(X_validation)\n",
    "predictions = gbr.predict(rescaledX_validation)\n",
    "print(mean_squared_error(Y_validation, predictions))"
   ]
  },
  {
   "cell_type": "code",
   "execution_count": null,
   "metadata": {},
   "outputs": [],
   "source": []
  }
 ],
 "metadata": {
  "kernelspec": {
   "display_name": "Python 3",
   "language": "python",
   "name": "python3"
  },
  "language_info": {
   "codemirror_mode": {
    "name": "ipython",
    "version": 3
   },
   "file_extension": ".py",
   "mimetype": "text/x-python",
   "name": "python",
   "nbconvert_exporter": "python",
   "pygments_lexer": "ipython3",
   "version": "3.6.5"
  }
 },
 "nbformat": 4,
 "nbformat_minor": 2
}
